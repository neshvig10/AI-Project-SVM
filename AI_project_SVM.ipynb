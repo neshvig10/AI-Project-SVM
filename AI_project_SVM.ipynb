{
  "cells": [
    {
      "cell_type": "markdown",
      "metadata": {
        "id": "view-in-github",
        "colab_type": "text"
      },
      "source": [
        "<a href=\"https://colab.research.google.com/github/vignesh1073/AI_Project/blob/main/AI_project_SVM.ipynb\" target=\"_parent\"><img src=\"https://colab.research.google.com/assets/colab-badge.svg\" alt=\"Open In Colab\"/></a>"
      ]
    },
    {
      "cell_type": "code",
      "execution_count": null,
      "metadata": {
        "id": "vSsHO4H27OSp"
      },
      "outputs": [],
      "source": [
        "import pandas as pd\n",
        "mydata=pd.read_csv('/content/Dataset_Electric_Motor.csv')"
      ]
    },
    {
      "cell_type": "code",
      "execution_count": null,
      "metadata": {
        "colab": {
          "base_uri": "https://localhost:8080/",
          "height": 423
        },
        "id": "k5dYcjaeCVif",
        "outputId": "0616130b-f046-4428-9910-bf9bb7876502"
      },
      "outputs": [
        {
          "output_type": "execute_result",
          "data": {
            "text/plain": [
              "             id_k       iq_k  epsilon_k  n_k  n_1k       id_k1      iq_k1\n",
              "0       -81.45802  229.52930   2.240254    5     6 -105.738200  167.36170\n",
              "1      -140.68210  112.42340  -1.610116    7     2 -174.897100  128.22370\n",
              "2      -127.07240  171.74380  -1.971891    4     7  -92.961020  126.60810\n",
              "3       -42.27880  120.14950   1.300341    2     7  -82.233100  124.33790\n",
              "4       -48.02003   10.97132  -1.778834    1     4  -45.731480   11.60761\n",
              "...           ...        ...        ...  ...   ...         ...        ...\n",
              "421177 -136.62840   23.62280   2.741618    3     6  -94.946120   17.57779\n",
              "421178 -137.57150   80.39489   0.471213    4     5 -174.135300   92.30064\n",
              "421179  -99.96099  193.93860  -1.574865    7     7 -128.131300  219.44260\n",
              "421180  -30.02157  219.90050  -1.968713    1     6  -18.918700  215.00280\n",
              "421181  -47.37975  210.74190   2.707685    3     6   -2.416948  173.73700\n",
              "\n",
              "[421182 rows x 7 columns]"
            ],
            "text/html": [
              "\n",
              "  <div id=\"df-a7b3a2b4-8b2b-4d65-87a9-0297db6ee1cb\">\n",
              "    <div class=\"colab-df-container\">\n",
              "      <div>\n",
              "<style scoped>\n",
              "    .dataframe tbody tr th:only-of-type {\n",
              "        vertical-align: middle;\n",
              "    }\n",
              "\n",
              "    .dataframe tbody tr th {\n",
              "        vertical-align: top;\n",
              "    }\n",
              "\n",
              "    .dataframe thead th {\n",
              "        text-align: right;\n",
              "    }\n",
              "</style>\n",
              "<table border=\"1\" class=\"dataframe\">\n",
              "  <thead>\n",
              "    <tr style=\"text-align: right;\">\n",
              "      <th></th>\n",
              "      <th>id_k</th>\n",
              "      <th>iq_k</th>\n",
              "      <th>epsilon_k</th>\n",
              "      <th>n_k</th>\n",
              "      <th>n_1k</th>\n",
              "      <th>id_k1</th>\n",
              "      <th>iq_k1</th>\n",
              "    </tr>\n",
              "  </thead>\n",
              "  <tbody>\n",
              "    <tr>\n",
              "      <th>0</th>\n",
              "      <td>-81.45802</td>\n",
              "      <td>229.52930</td>\n",
              "      <td>2.240254</td>\n",
              "      <td>5</td>\n",
              "      <td>6</td>\n",
              "      <td>-105.738200</td>\n",
              "      <td>167.36170</td>\n",
              "    </tr>\n",
              "    <tr>\n",
              "      <th>1</th>\n",
              "      <td>-140.68210</td>\n",
              "      <td>112.42340</td>\n",
              "      <td>-1.610116</td>\n",
              "      <td>7</td>\n",
              "      <td>2</td>\n",
              "      <td>-174.897100</td>\n",
              "      <td>128.22370</td>\n",
              "    </tr>\n",
              "    <tr>\n",
              "      <th>2</th>\n",
              "      <td>-127.07240</td>\n",
              "      <td>171.74380</td>\n",
              "      <td>-1.971891</td>\n",
              "      <td>4</td>\n",
              "      <td>7</td>\n",
              "      <td>-92.961020</td>\n",
              "      <td>126.60810</td>\n",
              "    </tr>\n",
              "    <tr>\n",
              "      <th>3</th>\n",
              "      <td>-42.27880</td>\n",
              "      <td>120.14950</td>\n",
              "      <td>1.300341</td>\n",
              "      <td>2</td>\n",
              "      <td>7</td>\n",
              "      <td>-82.233100</td>\n",
              "      <td>124.33790</td>\n",
              "    </tr>\n",
              "    <tr>\n",
              "      <th>4</th>\n",
              "      <td>-48.02003</td>\n",
              "      <td>10.97132</td>\n",
              "      <td>-1.778834</td>\n",
              "      <td>1</td>\n",
              "      <td>4</td>\n",
              "      <td>-45.731480</td>\n",
              "      <td>11.60761</td>\n",
              "    </tr>\n",
              "    <tr>\n",
              "      <th>...</th>\n",
              "      <td>...</td>\n",
              "      <td>...</td>\n",
              "      <td>...</td>\n",
              "      <td>...</td>\n",
              "      <td>...</td>\n",
              "      <td>...</td>\n",
              "      <td>...</td>\n",
              "    </tr>\n",
              "    <tr>\n",
              "      <th>421177</th>\n",
              "      <td>-136.62840</td>\n",
              "      <td>23.62280</td>\n",
              "      <td>2.741618</td>\n",
              "      <td>3</td>\n",
              "      <td>6</td>\n",
              "      <td>-94.946120</td>\n",
              "      <td>17.57779</td>\n",
              "    </tr>\n",
              "    <tr>\n",
              "      <th>421178</th>\n",
              "      <td>-137.57150</td>\n",
              "      <td>80.39489</td>\n",
              "      <td>0.471213</td>\n",
              "      <td>4</td>\n",
              "      <td>5</td>\n",
              "      <td>-174.135300</td>\n",
              "      <td>92.30064</td>\n",
              "    </tr>\n",
              "    <tr>\n",
              "      <th>421179</th>\n",
              "      <td>-99.96099</td>\n",
              "      <td>193.93860</td>\n",
              "      <td>-1.574865</td>\n",
              "      <td>7</td>\n",
              "      <td>7</td>\n",
              "      <td>-128.131300</td>\n",
              "      <td>219.44260</td>\n",
              "    </tr>\n",
              "    <tr>\n",
              "      <th>421180</th>\n",
              "      <td>-30.02157</td>\n",
              "      <td>219.90050</td>\n",
              "      <td>-1.968713</td>\n",
              "      <td>1</td>\n",
              "      <td>6</td>\n",
              "      <td>-18.918700</td>\n",
              "      <td>215.00280</td>\n",
              "    </tr>\n",
              "    <tr>\n",
              "      <th>421181</th>\n",
              "      <td>-47.37975</td>\n",
              "      <td>210.74190</td>\n",
              "      <td>2.707685</td>\n",
              "      <td>3</td>\n",
              "      <td>6</td>\n",
              "      <td>-2.416948</td>\n",
              "      <td>173.73700</td>\n",
              "    </tr>\n",
              "  </tbody>\n",
              "</table>\n",
              "<p>421182 rows × 7 columns</p>\n",
              "</div>\n",
              "      <button class=\"colab-df-convert\" onclick=\"convertToInteractive('df-a7b3a2b4-8b2b-4d65-87a9-0297db6ee1cb')\"\n",
              "              title=\"Convert this dataframe to an interactive table.\"\n",
              "              style=\"display:none;\">\n",
              "        \n",
              "  <svg xmlns=\"http://www.w3.org/2000/svg\" height=\"24px\"viewBox=\"0 0 24 24\"\n",
              "       width=\"24px\">\n",
              "    <path d=\"M0 0h24v24H0V0z\" fill=\"none\"/>\n",
              "    <path d=\"M18.56 5.44l.94 2.06.94-2.06 2.06-.94-2.06-.94-.94-2.06-.94 2.06-2.06.94zm-11 1L8.5 8.5l.94-2.06 2.06-.94-2.06-.94L8.5 2.5l-.94 2.06-2.06.94zm10 10l.94 2.06.94-2.06 2.06-.94-2.06-.94-.94-2.06-.94 2.06-2.06.94z\"/><path d=\"M17.41 7.96l-1.37-1.37c-.4-.4-.92-.59-1.43-.59-.52 0-1.04.2-1.43.59L10.3 9.45l-7.72 7.72c-.78.78-.78 2.05 0 2.83L4 21.41c.39.39.9.59 1.41.59.51 0 1.02-.2 1.41-.59l7.78-7.78 2.81-2.81c.8-.78.8-2.07 0-2.86zM5.41 20L4 18.59l7.72-7.72 1.47 1.35L5.41 20z\"/>\n",
              "  </svg>\n",
              "      </button>\n",
              "      \n",
              "  <style>\n",
              "    .colab-df-container {\n",
              "      display:flex;\n",
              "      flex-wrap:wrap;\n",
              "      gap: 12px;\n",
              "    }\n",
              "\n",
              "    .colab-df-convert {\n",
              "      background-color: #E8F0FE;\n",
              "      border: none;\n",
              "      border-radius: 50%;\n",
              "      cursor: pointer;\n",
              "      display: none;\n",
              "      fill: #1967D2;\n",
              "      height: 32px;\n",
              "      padding: 0 0 0 0;\n",
              "      width: 32px;\n",
              "    }\n",
              "\n",
              "    .colab-df-convert:hover {\n",
              "      background-color: #E2EBFA;\n",
              "      box-shadow: 0px 1px 2px rgba(60, 64, 67, 0.3), 0px 1px 3px 1px rgba(60, 64, 67, 0.15);\n",
              "      fill: #174EA6;\n",
              "    }\n",
              "\n",
              "    [theme=dark] .colab-df-convert {\n",
              "      background-color: #3B4455;\n",
              "      fill: #D2E3FC;\n",
              "    }\n",
              "\n",
              "    [theme=dark] .colab-df-convert:hover {\n",
              "      background-color: #434B5C;\n",
              "      box-shadow: 0px 1px 3px 1px rgba(0, 0, 0, 0.15);\n",
              "      filter: drop-shadow(0px 1px 2px rgba(0, 0, 0, 0.3));\n",
              "      fill: #FFFFFF;\n",
              "    }\n",
              "  </style>\n",
              "\n",
              "      <script>\n",
              "        const buttonEl =\n",
              "          document.querySelector('#df-a7b3a2b4-8b2b-4d65-87a9-0297db6ee1cb button.colab-df-convert');\n",
              "        buttonEl.style.display =\n",
              "          google.colab.kernel.accessAllowed ? 'block' : 'none';\n",
              "\n",
              "        async function convertToInteractive(key) {\n",
              "          const element = document.querySelector('#df-a7b3a2b4-8b2b-4d65-87a9-0297db6ee1cb');\n",
              "          const dataTable =\n",
              "            await google.colab.kernel.invokeFunction('convertToInteractive',\n",
              "                                                     [key], {});\n",
              "          if (!dataTable) return;\n",
              "\n",
              "          const docLinkHtml = 'Like what you see? Visit the ' +\n",
              "            '<a target=\"_blank\" href=https://colab.research.google.com/notebooks/data_table.ipynb>data table notebook</a>'\n",
              "            + ' to learn more about interactive tables.';\n",
              "          element.innerHTML = '';\n",
              "          dataTable['output_type'] = 'display_data';\n",
              "          await google.colab.output.renderOutput(dataTable, element);\n",
              "          const docLink = document.createElement('div');\n",
              "          docLink.innerHTML = docLinkHtml;\n",
              "          element.appendChild(docLink);\n",
              "        }\n",
              "      </script>\n",
              "    </div>\n",
              "  </div>\n",
              "  "
            ]
          },
          "metadata": {},
          "execution_count": 16
        }
      ],
      "source": [
        "mydata=mydata[::]\n",
        "mydata.dropna()\n",
        "mydata.dropna(inplace=True)\n",
        "mydata"
      ]
    },
    {
      "cell_type": "code",
      "execution_count": null,
      "metadata": {
        "colab": {
          "base_uri": "https://localhost:8080/",
          "height": 269
        },
        "id": "Ez_pCpvS7cNP",
        "outputId": "434cd401-aaff-474b-8668-56427bb44b79"
      },
      "outputs": [
        {
          "output_type": "execute_result",
          "data": {
            "text/plain": [
              "               id_k      iq_k  epsilon_k       n_k      n_1k     id_k1  \\\n",
              "id_k       1.000000  0.254543   0.000976  0.062631  0.041416  0.901551   \n",
              "iq_k       0.254543  1.000000  -0.001668 -0.011237 -0.007879  0.250743   \n",
              "epsilon_k  0.000976 -0.001668   1.000000 -0.068949 -0.065288  0.001528   \n",
              "n_k        0.062631 -0.011237  -0.068949  1.000000 -0.017992  0.018086   \n",
              "n_1k       0.041416 -0.007879  -0.065288 -0.017992  1.000000  0.031547   \n",
              "id_k1      0.901551  0.250743   0.001528  0.018086  0.031547  1.000000   \n",
              "iq_k1      0.252206  0.946279  -0.001222  0.006948 -0.007159  0.262115   \n",
              "\n",
              "              iq_k1  \n",
              "id_k       0.252206  \n",
              "iq_k       0.946279  \n",
              "epsilon_k -0.001222  \n",
              "n_k        0.006948  \n",
              "n_1k      -0.007159  \n",
              "id_k1      0.262115  \n",
              "iq_k1      1.000000  "
            ],
            "text/html": [
              "\n",
              "  <div id=\"df-6b15ac75-3578-4f4b-8f36-1a50dde66d5a\">\n",
              "    <div class=\"colab-df-container\">\n",
              "      <div>\n",
              "<style scoped>\n",
              "    .dataframe tbody tr th:only-of-type {\n",
              "        vertical-align: middle;\n",
              "    }\n",
              "\n",
              "    .dataframe tbody tr th {\n",
              "        vertical-align: top;\n",
              "    }\n",
              "\n",
              "    .dataframe thead th {\n",
              "        text-align: right;\n",
              "    }\n",
              "</style>\n",
              "<table border=\"1\" class=\"dataframe\">\n",
              "  <thead>\n",
              "    <tr style=\"text-align: right;\">\n",
              "      <th></th>\n",
              "      <th>id_k</th>\n",
              "      <th>iq_k</th>\n",
              "      <th>epsilon_k</th>\n",
              "      <th>n_k</th>\n",
              "      <th>n_1k</th>\n",
              "      <th>id_k1</th>\n",
              "      <th>iq_k1</th>\n",
              "    </tr>\n",
              "  </thead>\n",
              "  <tbody>\n",
              "    <tr>\n",
              "      <th>id_k</th>\n",
              "      <td>1.000000</td>\n",
              "      <td>0.254543</td>\n",
              "      <td>0.000976</td>\n",
              "      <td>0.062631</td>\n",
              "      <td>0.041416</td>\n",
              "      <td>0.901551</td>\n",
              "      <td>0.252206</td>\n",
              "    </tr>\n",
              "    <tr>\n",
              "      <th>iq_k</th>\n",
              "      <td>0.254543</td>\n",
              "      <td>1.000000</td>\n",
              "      <td>-0.001668</td>\n",
              "      <td>-0.011237</td>\n",
              "      <td>-0.007879</td>\n",
              "      <td>0.250743</td>\n",
              "      <td>0.946279</td>\n",
              "    </tr>\n",
              "    <tr>\n",
              "      <th>epsilon_k</th>\n",
              "      <td>0.000976</td>\n",
              "      <td>-0.001668</td>\n",
              "      <td>1.000000</td>\n",
              "      <td>-0.068949</td>\n",
              "      <td>-0.065288</td>\n",
              "      <td>0.001528</td>\n",
              "      <td>-0.001222</td>\n",
              "    </tr>\n",
              "    <tr>\n",
              "      <th>n_k</th>\n",
              "      <td>0.062631</td>\n",
              "      <td>-0.011237</td>\n",
              "      <td>-0.068949</td>\n",
              "      <td>1.000000</td>\n",
              "      <td>-0.017992</td>\n",
              "      <td>0.018086</td>\n",
              "      <td>0.006948</td>\n",
              "    </tr>\n",
              "    <tr>\n",
              "      <th>n_1k</th>\n",
              "      <td>0.041416</td>\n",
              "      <td>-0.007879</td>\n",
              "      <td>-0.065288</td>\n",
              "      <td>-0.017992</td>\n",
              "      <td>1.000000</td>\n",
              "      <td>0.031547</td>\n",
              "      <td>-0.007159</td>\n",
              "    </tr>\n",
              "    <tr>\n",
              "      <th>id_k1</th>\n",
              "      <td>0.901551</td>\n",
              "      <td>0.250743</td>\n",
              "      <td>0.001528</td>\n",
              "      <td>0.018086</td>\n",
              "      <td>0.031547</td>\n",
              "      <td>1.000000</td>\n",
              "      <td>0.262115</td>\n",
              "    </tr>\n",
              "    <tr>\n",
              "      <th>iq_k1</th>\n",
              "      <td>0.252206</td>\n",
              "      <td>0.946279</td>\n",
              "      <td>-0.001222</td>\n",
              "      <td>0.006948</td>\n",
              "      <td>-0.007159</td>\n",
              "      <td>0.262115</td>\n",
              "      <td>1.000000</td>\n",
              "    </tr>\n",
              "  </tbody>\n",
              "</table>\n",
              "</div>\n",
              "      <button class=\"colab-df-convert\" onclick=\"convertToInteractive('df-6b15ac75-3578-4f4b-8f36-1a50dde66d5a')\"\n",
              "              title=\"Convert this dataframe to an interactive table.\"\n",
              "              style=\"display:none;\">\n",
              "        \n",
              "  <svg xmlns=\"http://www.w3.org/2000/svg\" height=\"24px\"viewBox=\"0 0 24 24\"\n",
              "       width=\"24px\">\n",
              "    <path d=\"M0 0h24v24H0V0z\" fill=\"none\"/>\n",
              "    <path d=\"M18.56 5.44l.94 2.06.94-2.06 2.06-.94-2.06-.94-.94-2.06-.94 2.06-2.06.94zm-11 1L8.5 8.5l.94-2.06 2.06-.94-2.06-.94L8.5 2.5l-.94 2.06-2.06.94zm10 10l.94 2.06.94-2.06 2.06-.94-2.06-.94-.94-2.06-.94 2.06-2.06.94z\"/><path d=\"M17.41 7.96l-1.37-1.37c-.4-.4-.92-.59-1.43-.59-.52 0-1.04.2-1.43.59L10.3 9.45l-7.72 7.72c-.78.78-.78 2.05 0 2.83L4 21.41c.39.39.9.59 1.41.59.51 0 1.02-.2 1.41-.59l7.78-7.78 2.81-2.81c.8-.78.8-2.07 0-2.86zM5.41 20L4 18.59l7.72-7.72 1.47 1.35L5.41 20z\"/>\n",
              "  </svg>\n",
              "      </button>\n",
              "      \n",
              "  <style>\n",
              "    .colab-df-container {\n",
              "      display:flex;\n",
              "      flex-wrap:wrap;\n",
              "      gap: 12px;\n",
              "    }\n",
              "\n",
              "    .colab-df-convert {\n",
              "      background-color: #E8F0FE;\n",
              "      border: none;\n",
              "      border-radius: 50%;\n",
              "      cursor: pointer;\n",
              "      display: none;\n",
              "      fill: #1967D2;\n",
              "      height: 32px;\n",
              "      padding: 0 0 0 0;\n",
              "      width: 32px;\n",
              "    }\n",
              "\n",
              "    .colab-df-convert:hover {\n",
              "      background-color: #E2EBFA;\n",
              "      box-shadow: 0px 1px 2px rgba(60, 64, 67, 0.3), 0px 1px 3px 1px rgba(60, 64, 67, 0.15);\n",
              "      fill: #174EA6;\n",
              "    }\n",
              "\n",
              "    [theme=dark] .colab-df-convert {\n",
              "      background-color: #3B4455;\n",
              "      fill: #D2E3FC;\n",
              "    }\n",
              "\n",
              "    [theme=dark] .colab-df-convert:hover {\n",
              "      background-color: #434B5C;\n",
              "      box-shadow: 0px 1px 3px 1px rgba(0, 0, 0, 0.15);\n",
              "      filter: drop-shadow(0px 1px 2px rgba(0, 0, 0, 0.3));\n",
              "      fill: #FFFFFF;\n",
              "    }\n",
              "  </style>\n",
              "\n",
              "      <script>\n",
              "        const buttonEl =\n",
              "          document.querySelector('#df-6b15ac75-3578-4f4b-8f36-1a50dde66d5a button.colab-df-convert');\n",
              "        buttonEl.style.display =\n",
              "          google.colab.kernel.accessAllowed ? 'block' : 'none';\n",
              "\n",
              "        async function convertToInteractive(key) {\n",
              "          const element = document.querySelector('#df-6b15ac75-3578-4f4b-8f36-1a50dde66d5a');\n",
              "          const dataTable =\n",
              "            await google.colab.kernel.invokeFunction('convertToInteractive',\n",
              "                                                     [key], {});\n",
              "          if (!dataTable) return;\n",
              "\n",
              "          const docLinkHtml = 'Like what you see? Visit the ' +\n",
              "            '<a target=\"_blank\" href=https://colab.research.google.com/notebooks/data_table.ipynb>data table notebook</a>'\n",
              "            + ' to learn more about interactive tables.';\n",
              "          element.innerHTML = '';\n",
              "          dataTable['output_type'] = 'display_data';\n",
              "          await google.colab.output.renderOutput(dataTable, element);\n",
              "          const docLink = document.createElement('div');\n",
              "          docLink.innerHTML = docLinkHtml;\n",
              "          element.appendChild(docLink);\n",
              "        }\n",
              "      </script>\n",
              "    </div>\n",
              "  </div>\n",
              "  "
            ]
          },
          "metadata": {},
          "execution_count": 17
        }
      ],
      "source": [
        "mydata.corr()"
      ]
    },
    {
      "cell_type": "code",
      "execution_count": null,
      "metadata": {
        "colab": {
          "base_uri": "https://localhost:8080/",
          "height": 423
        },
        "id": "tLZtV4Pc7fN-",
        "outputId": "d923eceb-426d-4aeb-c242-62148d79bca2"
      },
      "outputs": [
        {
          "output_type": "execute_result",
          "data": {
            "text/plain": [
              "             id_k       iq_k  epsilon_k  n_k  n_1k       id_k1      iq_k1\n",
              "0       -81.45802  229.52930   2.240254    5     6 -105.738200  167.36170\n",
              "1      -140.68210  112.42340  -1.610116    7     2 -174.897100  128.22370\n",
              "2      -127.07240  171.74380  -1.971891    4     7  -92.961020  126.60810\n",
              "3       -42.27880  120.14950   1.300341    2     7  -82.233100  124.33790\n",
              "4       -48.02003   10.97132  -1.778834    1     4  -45.731480   11.60761\n",
              "...           ...        ...        ...  ...   ...         ...        ...\n",
              "421177 -136.62840   23.62280   2.741618    3     6  -94.946120   17.57779\n",
              "421178 -137.57150   80.39489   0.471213    4     5 -174.135300   92.30064\n",
              "421179  -99.96099  193.93860  -1.574865    7     7 -128.131300  219.44260\n",
              "421180  -30.02157  219.90050  -1.968713    1     6  -18.918700  215.00280\n",
              "421181  -47.37975  210.74190   2.707685    3     6   -2.416948  173.73700\n",
              "\n",
              "[421182 rows x 7 columns]"
            ],
            "text/html": [
              "\n",
              "  <div id=\"df-d5708e15-eba9-46c5-865b-a7f6ebc5f3c2\">\n",
              "    <div class=\"colab-df-container\">\n",
              "      <div>\n",
              "<style scoped>\n",
              "    .dataframe tbody tr th:only-of-type {\n",
              "        vertical-align: middle;\n",
              "    }\n",
              "\n",
              "    .dataframe tbody tr th {\n",
              "        vertical-align: top;\n",
              "    }\n",
              "\n",
              "    .dataframe thead th {\n",
              "        text-align: right;\n",
              "    }\n",
              "</style>\n",
              "<table border=\"1\" class=\"dataframe\">\n",
              "  <thead>\n",
              "    <tr style=\"text-align: right;\">\n",
              "      <th></th>\n",
              "      <th>id_k</th>\n",
              "      <th>iq_k</th>\n",
              "      <th>epsilon_k</th>\n",
              "      <th>n_k</th>\n",
              "      <th>n_1k</th>\n",
              "      <th>id_k1</th>\n",
              "      <th>iq_k1</th>\n",
              "    </tr>\n",
              "  </thead>\n",
              "  <tbody>\n",
              "    <tr>\n",
              "      <th>0</th>\n",
              "      <td>-81.45802</td>\n",
              "      <td>229.52930</td>\n",
              "      <td>2.240254</td>\n",
              "      <td>5</td>\n",
              "      <td>6</td>\n",
              "      <td>-105.738200</td>\n",
              "      <td>167.36170</td>\n",
              "    </tr>\n",
              "    <tr>\n",
              "      <th>1</th>\n",
              "      <td>-140.68210</td>\n",
              "      <td>112.42340</td>\n",
              "      <td>-1.610116</td>\n",
              "      <td>7</td>\n",
              "      <td>2</td>\n",
              "      <td>-174.897100</td>\n",
              "      <td>128.22370</td>\n",
              "    </tr>\n",
              "    <tr>\n",
              "      <th>2</th>\n",
              "      <td>-127.07240</td>\n",
              "      <td>171.74380</td>\n",
              "      <td>-1.971891</td>\n",
              "      <td>4</td>\n",
              "      <td>7</td>\n",
              "      <td>-92.961020</td>\n",
              "      <td>126.60810</td>\n",
              "    </tr>\n",
              "    <tr>\n",
              "      <th>3</th>\n",
              "      <td>-42.27880</td>\n",
              "      <td>120.14950</td>\n",
              "      <td>1.300341</td>\n",
              "      <td>2</td>\n",
              "      <td>7</td>\n",
              "      <td>-82.233100</td>\n",
              "      <td>124.33790</td>\n",
              "    </tr>\n",
              "    <tr>\n",
              "      <th>4</th>\n",
              "      <td>-48.02003</td>\n",
              "      <td>10.97132</td>\n",
              "      <td>-1.778834</td>\n",
              "      <td>1</td>\n",
              "      <td>4</td>\n",
              "      <td>-45.731480</td>\n",
              "      <td>11.60761</td>\n",
              "    </tr>\n",
              "    <tr>\n",
              "      <th>...</th>\n",
              "      <td>...</td>\n",
              "      <td>...</td>\n",
              "      <td>...</td>\n",
              "      <td>...</td>\n",
              "      <td>...</td>\n",
              "      <td>...</td>\n",
              "      <td>...</td>\n",
              "    </tr>\n",
              "    <tr>\n",
              "      <th>421177</th>\n",
              "      <td>-136.62840</td>\n",
              "      <td>23.62280</td>\n",
              "      <td>2.741618</td>\n",
              "      <td>3</td>\n",
              "      <td>6</td>\n",
              "      <td>-94.946120</td>\n",
              "      <td>17.57779</td>\n",
              "    </tr>\n",
              "    <tr>\n",
              "      <th>421178</th>\n",
              "      <td>-137.57150</td>\n",
              "      <td>80.39489</td>\n",
              "      <td>0.471213</td>\n",
              "      <td>4</td>\n",
              "      <td>5</td>\n",
              "      <td>-174.135300</td>\n",
              "      <td>92.30064</td>\n",
              "    </tr>\n",
              "    <tr>\n",
              "      <th>421179</th>\n",
              "      <td>-99.96099</td>\n",
              "      <td>193.93860</td>\n",
              "      <td>-1.574865</td>\n",
              "      <td>7</td>\n",
              "      <td>7</td>\n",
              "      <td>-128.131300</td>\n",
              "      <td>219.44260</td>\n",
              "    </tr>\n",
              "    <tr>\n",
              "      <th>421180</th>\n",
              "      <td>-30.02157</td>\n",
              "      <td>219.90050</td>\n",
              "      <td>-1.968713</td>\n",
              "      <td>1</td>\n",
              "      <td>6</td>\n",
              "      <td>-18.918700</td>\n",
              "      <td>215.00280</td>\n",
              "    </tr>\n",
              "    <tr>\n",
              "      <th>421181</th>\n",
              "      <td>-47.37975</td>\n",
              "      <td>210.74190</td>\n",
              "      <td>2.707685</td>\n",
              "      <td>3</td>\n",
              "      <td>6</td>\n",
              "      <td>-2.416948</td>\n",
              "      <td>173.73700</td>\n",
              "    </tr>\n",
              "  </tbody>\n",
              "</table>\n",
              "<p>421182 rows × 7 columns</p>\n",
              "</div>\n",
              "      <button class=\"colab-df-convert\" onclick=\"convertToInteractive('df-d5708e15-eba9-46c5-865b-a7f6ebc5f3c2')\"\n",
              "              title=\"Convert this dataframe to an interactive table.\"\n",
              "              style=\"display:none;\">\n",
              "        \n",
              "  <svg xmlns=\"http://www.w3.org/2000/svg\" height=\"24px\"viewBox=\"0 0 24 24\"\n",
              "       width=\"24px\">\n",
              "    <path d=\"M0 0h24v24H0V0z\" fill=\"none\"/>\n",
              "    <path d=\"M18.56 5.44l.94 2.06.94-2.06 2.06-.94-2.06-.94-.94-2.06-.94 2.06-2.06.94zm-11 1L8.5 8.5l.94-2.06 2.06-.94-2.06-.94L8.5 2.5l-.94 2.06-2.06.94zm10 10l.94 2.06.94-2.06 2.06-.94-2.06-.94-.94-2.06-.94 2.06-2.06.94z\"/><path d=\"M17.41 7.96l-1.37-1.37c-.4-.4-.92-.59-1.43-.59-.52 0-1.04.2-1.43.59L10.3 9.45l-7.72 7.72c-.78.78-.78 2.05 0 2.83L4 21.41c.39.39.9.59 1.41.59.51 0 1.02-.2 1.41-.59l7.78-7.78 2.81-2.81c.8-.78.8-2.07 0-2.86zM5.41 20L4 18.59l7.72-7.72 1.47 1.35L5.41 20z\"/>\n",
              "  </svg>\n",
              "      </button>\n",
              "      \n",
              "  <style>\n",
              "    .colab-df-container {\n",
              "      display:flex;\n",
              "      flex-wrap:wrap;\n",
              "      gap: 12px;\n",
              "    }\n",
              "\n",
              "    .colab-df-convert {\n",
              "      background-color: #E8F0FE;\n",
              "      border: none;\n",
              "      border-radius: 50%;\n",
              "      cursor: pointer;\n",
              "      display: none;\n",
              "      fill: #1967D2;\n",
              "      height: 32px;\n",
              "      padding: 0 0 0 0;\n",
              "      width: 32px;\n",
              "    }\n",
              "\n",
              "    .colab-df-convert:hover {\n",
              "      background-color: #E2EBFA;\n",
              "      box-shadow: 0px 1px 2px rgba(60, 64, 67, 0.3), 0px 1px 3px 1px rgba(60, 64, 67, 0.15);\n",
              "      fill: #174EA6;\n",
              "    }\n",
              "\n",
              "    [theme=dark] .colab-df-convert {\n",
              "      background-color: #3B4455;\n",
              "      fill: #D2E3FC;\n",
              "    }\n",
              "\n",
              "    [theme=dark] .colab-df-convert:hover {\n",
              "      background-color: #434B5C;\n",
              "      box-shadow: 0px 1px 3px 1px rgba(0, 0, 0, 0.15);\n",
              "      filter: drop-shadow(0px 1px 2px rgba(0, 0, 0, 0.3));\n",
              "      fill: #FFFFFF;\n",
              "    }\n",
              "  </style>\n",
              "\n",
              "      <script>\n",
              "        const buttonEl =\n",
              "          document.querySelector('#df-d5708e15-eba9-46c5-865b-a7f6ebc5f3c2 button.colab-df-convert');\n",
              "        buttonEl.style.display =\n",
              "          google.colab.kernel.accessAllowed ? 'block' : 'none';\n",
              "\n",
              "        async function convertToInteractive(key) {\n",
              "          const element = document.querySelector('#df-d5708e15-eba9-46c5-865b-a7f6ebc5f3c2');\n",
              "          const dataTable =\n",
              "            await google.colab.kernel.invokeFunction('convertToInteractive',\n",
              "                                                     [key], {});\n",
              "          if (!dataTable) return;\n",
              "\n",
              "          const docLinkHtml = 'Like what you see? Visit the ' +\n",
              "            '<a target=\"_blank\" href=https://colab.research.google.com/notebooks/data_table.ipynb>data table notebook</a>'\n",
              "            + ' to learn more about interactive tables.';\n",
              "          element.innerHTML = '';\n",
              "          dataTable['output_type'] = 'display_data';\n",
              "          await google.colab.output.renderOutput(dataTable, element);\n",
              "          const docLink = document.createElement('div');\n",
              "          docLink.innerHTML = docLinkHtml;\n",
              "          element.appendChild(docLink);\n",
              "        }\n",
              "      </script>\n",
              "    </div>\n",
              "  </div>\n",
              "  "
            ]
          },
          "metadata": {},
          "execution_count": 18
        }
      ],
      "source": [
        "# input data\n",
        "X = mydata\n",
        "X"
      ]
    },
    {
      "cell_type": "code",
      "execution_count": null,
      "metadata": {
        "colab": {
          "base_uri": "https://localhost:8080/"
        },
        "id": "GPjgTAia8D2b",
        "outputId": "c84ed7ce-cacc-434e-c94a-a3e6e44db132"
      },
      "outputs": [
        {
          "output_type": "execute_result",
          "data": {
            "text/plain": [
              "0        -105.738200\n",
              "1        -174.897100\n",
              "2         -92.961020\n",
              "3         -82.233100\n",
              "4         -45.731480\n",
              "             ...    \n",
              "421177    -94.946120\n",
              "421178   -174.135300\n",
              "421179   -128.131300\n",
              "421180    -18.918700\n",
              "421181     -2.416948\n",
              "Name: id_k1, Length: 421182, dtype: float64"
            ]
          },
          "metadata": {},
          "execution_count": 19
        }
      ],
      "source": [
        "y=mydata['id_k1']\n",
        "y"
      ]
    },
    {
      "cell_type": "code",
      "execution_count": null,
      "metadata": {
        "colab": {
          "base_uri": "https://localhost:8080/"
        },
        "id": "8WhknHwQ8j-y",
        "outputId": "0355acbd-0629-46af-a9a2-6cf422847aae"
      },
      "outputs": [
        {
          "output_type": "execute_result",
          "data": {
            "text/plain": [
              "0         167.36170\n",
              "1         128.22370\n",
              "2         126.60810\n",
              "3         124.33790\n",
              "4          11.60761\n",
              "            ...    \n",
              "421177     17.57779\n",
              "421178     92.30064\n",
              "421179    219.44260\n",
              "421180    215.00280\n",
              "421181    173.73700\n",
              "Name: iq_k1, Length: 421182, dtype: float64"
            ]
          },
          "metadata": {},
          "execution_count": 20
        }
      ],
      "source": [
        "z = mydata['iq_k1']\n",
        "z"
      ]
    },
    {
      "cell_type": "code",
      "execution_count": null,
      "metadata": {
        "id": "6u8n09828xrV"
      },
      "outputs": [],
      "source": [
        "# splitting dataset into training and testing \n",
        "# importing train_test-split function\n",
        "from sklearn.model_selection import train_test_split\n",
        "# splitting the dataset "
      ]
    },
    {
      "cell_type": "code",
      "execution_count": null,
      "metadata": {
        "id": "T1s4Urz689Sl"
      },
      "outputs": [],
      "source": [
        "X_train,X_test,y_train,y_test,z_train,z_test = train_test_split(X,y,z,test_size=0.20,random_state=30)\n"
      ]
    },
    {
      "cell_type": "code",
      "execution_count": null,
      "metadata": {
        "colab": {
          "base_uri": "https://localhost:8080/"
        },
        "id": "KG930xDN9jJH",
        "outputId": "46b6ffc6-6dcc-4f6c-d550-8f070901d1db"
      },
      "outputs": [
        {
          "output_type": "stream",
          "name": "stdout",
          "text": [
            "(336945, 7) (84237, 7) (336945,) (84237,) (336945,) (84237,)\n"
          ]
        }
      ],
      "source": [
        "print(X_train.shape,X_test.shape,y_train.shape,y_test.shape,z_train.shape,z_test.shape)"
      ]
    },
    {
      "cell_type": "code",
      "execution_count": null,
      "metadata": {
        "id": "Qzs8CcQa7vZl"
      },
      "outputs": [],
      "source": []
    },
    {
      "cell_type": "code",
      "execution_count": null,
      "metadata": {
        "id": "ml4n07jw2Jqn"
      },
      "outputs": [],
      "source": [
        "# preprocessing\n",
        "\n",
        "from sklearn.preprocessing import StandardScaler\n",
        "\n",
        "# create a StandardScaler object\n",
        "scaler = StandardScaler()\n",
        "\n",
        "# fit the scaler on the training data\n",
        "X_train = scaler.fit_transform(X_train)\n",
        "X_test = scaler.transform(X_test)\n",
        "\n",
        "# mean is zero and standard deviation is one\n"
      ]
    },
    {
      "cell_type": "code",
      "execution_count": null,
      "metadata": {
        "id": "jjHgmd_Z97hE"
      },
      "outputs": [],
      "source": [
        "# Support vector Regression\n",
        "from sklearn.svm import SVR"
      ]
    },
    {
      "cell_type": "code",
      "execution_count": null,
      "metadata": {
        "id": "MWm_F9v88DJJ"
      },
      "outputs": [],
      "source": [
        "# from sklearn.model_selection import KFold\n",
        "\n",
        "# # set the number of folds\n",
        "# k = 5\n",
        "\n",
        "# # create a KFold object\n",
        "# kf = KFold(n_splits=k, shuffle=True, random_state=42)\n",
        "\n",
        "LL_svr1 = SVR().fit(X_train,y_train)\n",
        "LL_svr2 = SVR().fit(X_train,z_train)\n"
      ]
    },
    {
      "cell_type": "code",
      "execution_count": null,
      "metadata": {
        "id": "_C54Lu07BlJ4"
      },
      "outputs": [],
      "source": [
        "print('The r_sq value is : %.2f'% LL_svr1.score(X_train,y_train))"
      ]
    },
    {
      "cell_type": "code",
      "execution_count": null,
      "metadata": {
        "id": "CLZ2OzdrBwc9"
      },
      "outputs": [],
      "source": [
        "print('The r_sq value is : %.2f'% LL_svr2.score(X_train,z_train))"
      ]
    },
    {
      "cell_type": "code",
      "execution_count": null,
      "metadata": {
        "id": "LjzXp8XdBzXi"
      },
      "outputs": [],
      "source": [
        "from sklearn.metrics import mean_absolute_error,mean_squared_error,r2_score,explained_variance_score"
      ]
    },
    {
      "cell_type": "code",
      "execution_count": null,
      "metadata": {
        "id": "dm0ffLYNCCuY"
      },
      "outputs": [],
      "source": [
        "# predicting the training data\n",
        "ytrain_pred = LL_svr1.predict(X_train)\n",
        "ztrain_pred = LL_svr2.predict(X_train)"
      ]
    },
    {
      "cell_type": "code",
      "execution_count": null,
      "metadata": {
        "id": "YebSs_5XDaFi"
      },
      "outputs": [],
      "source": [
        "print('The r_2 score is : %.2f'% r2_score(y_train,ytrain_pred))"
      ]
    },
    {
      "cell_type": "code",
      "execution_count": null,
      "metadata": {
        "id": "vpCUYOF9Dp7z"
      },
      "outputs": [],
      "source": [
        "# Mean Absolute error\n",
        "print('The Mean Absolute Error is : %.2f'% mean_absolute_error(y_train,ytrain_pred))"
      ]
    },
    {
      "cell_type": "code",
      "execution_count": null,
      "metadata": {
        "id": "J3_OvxTfEBid"
      },
      "outputs": [],
      "source": [
        "# The mean squared error is : \n",
        "print('The Mean Squared Error is : %.2f'% mean_squared_error(y_train,ytrain_pred))\n"
      ]
    },
    {
      "cell_type": "code",
      "execution_count": null,
      "metadata": {
        "id": "ZOktgZYjENx-"
      },
      "outputs": [],
      "source": [
        "# The root mean squared error is : \n",
        "import numpy as np\n",
        "print('The Root Mean Squared Error is : %.2f'% np.sqrt(mean_squared_error(y_train,ytrain_pred)))\n"
      ]
    },
    {
      "cell_type": "code",
      "execution_count": null,
      "metadata": {
        "id": "-_PAqAmSEZ2x"
      },
      "outputs": [],
      "source": [
        "# the explained variance score EVS \n",
        "print('The EVS is : %.2f'% explained_variance_score(y_train,ytrain_pred))"
      ]
    },
    {
      "cell_type": "code",
      "execution_count": null,
      "metadata": {
        "id": "Eis2BnCaFFoo"
      },
      "outputs": [],
      "source": [
        "ytest_pred = LL_svr1.predict(X_test)"
      ]
    },
    {
      "cell_type": "code",
      "execution_count": null,
      "metadata": {
        "id": "IvUKh9qyFSyo"
      },
      "outputs": [],
      "source": [
        "# the coeffecient of determination\n",
        "print('The r_2 score is : %0.2f'% r2_score(y_test,ytest_pred))"
      ]
    },
    {
      "cell_type": "code",
      "execution_count": null,
      "metadata": {
        "id": "MSDf09WbJlwD"
      },
      "outputs": [],
      "source": [
        "# print('The r_sq is : %.2f'% LL_svr1.score(X_test,y_test))"
      ]
    },
    {
      "cell_type": "code",
      "execution_count": null,
      "metadata": {
        "id": "-SK08z4YIsOB"
      },
      "outputs": [],
      "source": [
        "print('The r_2 score is : %.2f'% r2_score(z_train,ztrain_pred))"
      ]
    },
    {
      "cell_type": "code",
      "execution_count": null,
      "metadata": {
        "id": "HgX81JEdIzo0"
      },
      "outputs": [],
      "source": [
        "# Mean Absolute error\n",
        "print('The Mean Absolute Error is : %.2f'% mean_absolute_error(z_train,ztrain_pred))"
      ]
    },
    {
      "cell_type": "code",
      "execution_count": null,
      "metadata": {
        "id": "JJL493uPI3ny"
      },
      "outputs": [],
      "source": [
        "# The mean squared error is : \n",
        "print('The Mean Squared Error is : %.2f'% mean_squared_error(z_train,ztrain_pred))\n"
      ]
    },
    {
      "cell_type": "markdown",
      "metadata": {
        "id": "brovVF0rIv7J"
      },
      "source": []
    },
    {
      "cell_type": "code",
      "execution_count": null,
      "metadata": {
        "id": "-vP4nlmeI8gh"
      },
      "outputs": [],
      "source": [
        "# The root mean squared error is : \n",
        "import numpy as np\n",
        "print('The Root Mean Squared Error is : %.2f'% np.sqrt(mean_squared_error(z_train,ztrain_pred)))\n"
      ]
    },
    {
      "cell_type": "code",
      "execution_count": null,
      "metadata": {
        "id": "NTuhMMprI_Aa"
      },
      "outputs": [],
      "source": [
        "# the explained variance score EVS \n",
        "print('The EVS is : %.2f'% explained_variance_score(z_train,ztrain_pred))"
      ]
    },
    {
      "cell_type": "code",
      "execution_count": null,
      "metadata": {
        "id": "Oz48vd1MJE4W"
      },
      "outputs": [],
      "source": [
        "ztest_pred = LL_svr2.predict(X_test)"
      ]
    },
    {
      "cell_type": "code",
      "execution_count": null,
      "metadata": {
        "id": "lKoj0nWzJJ_7"
      },
      "outputs": [],
      "source": [
        "# the coeffecient of determination\n",
        "print('The r2_score is : %0.2f'% r2_score(z_test,ztest_pred))"
      ]
    },
    {
      "cell_type": "code",
      "execution_count": null,
      "metadata": {
        "id": "0Kk_4JMLJMFz"
      },
      "outputs": [],
      "source": [
        "# print('The r_sq is : %.2f'% LL_svr2.score(X_test,z_test))"
      ]
    },
    {
      "cell_type": "code",
      "execution_count": null,
      "metadata": {
        "id": "yExO5rlxQTjo"
      },
      "outputs": [],
      "source": [
        "# Mean Absolute Error is \n",
        "print('The MAE is : %.2f'% mean_absolute_error(y_test,ytest_pred))"
      ]
    },
    {
      "cell_type": "code",
      "execution_count": null,
      "metadata": {
        "id": "dXtjqQkFRBo0"
      },
      "outputs": [],
      "source": [
        "# Mean Square Error is \n",
        "print('The MSE is : %.2f'% mean_squared_error(y_test,ytest_pred))"
      ]
    },
    {
      "cell_type": "code",
      "execution_count": null,
      "metadata": {
        "id": "J8D_EtsWRN4s"
      },
      "outputs": [],
      "source": [
        "# Root Mean Square Error is \n",
        "print('The RMAE is : %.2f'% np.sqrt(mean_absolute_error(y_test,ytest_pred)))"
      ]
    },
    {
      "cell_type": "code",
      "execution_count": null,
      "metadata": {
        "id": "3g5PhAdC7KAx"
      },
      "outputs": [],
      "source": [
        "# Root Mean Square Error is \n",
        "print('The RMSE is : %.2f'% np.sqrt(mean_squared_error(y_test,ytest_pred)))"
      ]
    },
    {
      "cell_type": "code",
      "execution_count": null,
      "metadata": {
        "id": "PLUPL1YHRX40"
      },
      "outputs": [],
      "source": [
        "# Mean Square Error is \n",
        "print('The MSE is : %.2f'% mean_squared_error(z_test,ztest_pred))"
      ]
    },
    {
      "cell_type": "code",
      "execution_count": null,
      "metadata": {
        "id": "gjGeHomIRdFA"
      },
      "outputs": [],
      "source": [
        "# Mean Absolute Error is \n",
        "print('The MAE is : %.2f'% mean_absolute_error(z_test,ztest_pred))"
      ]
    },
    {
      "cell_type": "code",
      "execution_count": null,
      "metadata": {
        "id": "MTBF27qh7EMH"
      },
      "outputs": [],
      "source": [
        "# Root Mean Square Error is \n",
        "print('The RMSE is : %.2f'% np.sqrt(mean_squared_error(z_test,ztest_pred)))"
      ]
    },
    {
      "cell_type": "code",
      "execution_count": null,
      "metadata": {
        "id": "ND0ibMquReHx"
      },
      "outputs": [],
      "source": [
        "# Root Mean Square Error is \n",
        "print('The RMAE is : %.2f'% np.sqrt(mean_absolute_error(z_test,ztest_pred)))"
      ]
    },
    {
      "cell_type": "code",
      "execution_count": null,
      "metadata": {
        "id": "StBjIiZDRoKw"
      },
      "outputs": [],
      "source": [
        "# -done-"
      ]
    },
    {
      "cell_type": "code",
      "execution_count": null,
      "metadata": {
        "id": "UPHS45uTJ80B"
      },
      "outputs": [],
      "source": [
        "# Plotting the predicted data\n",
        "import matplotlib.pyplot as plt\n",
        "# set the boundaries and other characteristics\n",
        "plt.rcParams['figure.figsize'] = (600,110)\n",
        "x_ax = range(len(X_test))\n",
        "plt.plot(x_ax, y_test,label = 'Observed',color='red',linestyle = '-')\n",
        "plt.plot(x_ax, ytest_pred,label = 'Predicted' ,color = 'green',linestyle = '-')\n",
        "plt.ylabel('id_k1')\n",
        "plt.xlabel('Sample No.')"
      ]
    },
    {
      "cell_type": "code",
      "execution_count": null,
      "metadata": {
        "id": "4PjgOjtbLTdP"
      },
      "outputs": [],
      "source": [
        "# Plotting the predicted data\n",
        "import matplotlib.pyplot as plt\n",
        "# set the boundaries and other characteristics\n",
        "plt.rcParams['figure.figsize'] = (600,120)\n",
        "x_ax = range(len(X_test))\n",
        "plt.plot(x_ax, z_test,label = 'Observed',color='red',linestyle = '-')\n",
        "plt.plot(x_ax, ztest_pred,label = 'Predicted' ,color = 'green',linestyle = '-')\n",
        "plt.ylabel('id_q1')\n",
        "plt.xlabel('Sample No.')"
      ]
    },
    {
      "cell_type": "code",
      "execution_count": null,
      "metadata": {
        "id": "NDmPlV4VO2AU"
      },
      "outputs": [],
      "source": [
        "#  we are also plotting the prediction error\n",
        "from yellowbrick.regressor import PredictionError\n",
        "visualizer = PredictionError(LL_svr2)\n",
        "visualizer.fit(X_train,z_train)\n",
        "visualizer.score(X_test,z_test)\n",
        "visualizer.poof()"
      ]
    },
    {
      "cell_type": "code",
      "execution_count": null,
      "metadata": {
        "id": "Pg2cnImaLeKz"
      },
      "outputs": [],
      "source": [
        "#  we are also plotting the prediction error\n",
        "from yellowbrick.regressor import PredictionError\n",
        "visualizer = PredictionError(LL_svr1)\n",
        "visualizer.fit(X_train,y_train)\n",
        "visualizer.score(X_test,y_test)\n",
        "visualizer.poof()"
      ]
    },
    {
      "cell_type": "code",
      "execution_count": null,
      "metadata": {
        "id": "SUMSFsDIPCoM"
      },
      "outputs": [],
      "source": [
        "# residual plot\n",
        "from yellowbrick.regressor import ResidualsPlot \n",
        "visualizer = ResidualsPlot(LL_svr1)\n",
        "visualizer.fit(X_train,y_train)\n",
        "visualizer.score(X_test,y_test)\n",
        "visualizer.poof()\n",
        "\n",
        "\n"
      ]
    },
    {
      "cell_type": "code",
      "execution_count": null,
      "metadata": {
        "id": "DtMdlrTIPkU8"
      },
      "outputs": [],
      "source": [
        "visualizer = ResidualsPlot(LL_svr2)\n",
        "visualizer.fit(X_train,z_train)\n",
        "visualizer.score(X_test,z_test)\n",
        "visualizer.poof()"
      ]
    }
  ],
  "metadata": {
    "colab": {
      "provenance": [],
      "include_colab_link": true
    },
    "kernelspec": {
      "display_name": "Python 3",
      "name": "python3"
    },
    "language_info": {
      "name": "python"
    }
  },
  "nbformat": 4,
  "nbformat_minor": 0
}