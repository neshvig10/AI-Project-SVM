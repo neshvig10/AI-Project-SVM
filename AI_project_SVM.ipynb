{
  "cells": [
    {
      "cell_type": "markdown",
      "metadata": {
        "id": "view-in-github",
        "colab_type": "text"
      },
      "source": [
        "<a href=\"https://colab.research.google.com/github/neshvig10/AI_Project/blob/main/AI_project_SVM.ipynb\" target=\"_parent\"><img src=\"https://colab.research.google.com/assets/colab-badge.svg\" alt=\"Open In Colab\"/></a>"
      ]
    },
    {
      "cell_type": "code",
      "execution_count": 2,
      "metadata": {
        "id": "vSsHO4H27OSp",
        "colab": {
          "base_uri": "https://localhost:8080/"
        },
        "outputId": "95d145fb-fbcd-474f-ceed-253ff9ce6e68"
      },
      "outputs": [
        {
          "output_type": "stream",
          "name": "stderr",
          "text": [
            "<ipython-input-2-9837d487fd79>:2: DtypeWarning: Columns (0) have mixed types. Specify dtype option on import or set low_memory=False.\n",
            "  mydata=pd.read_csv('/content/Dataset_Electric_Motor.csv')\n"
          ]
        }
      ],
      "source": [
        "import pandas as pd\n",
        "mydata=pd.read_csv('/content/Dataset_Electric_Motor.csv')"
      ]
    },
    {
      "cell_type": "code",
      "execution_count": 3,
      "metadata": {
        "colab": {
          "base_uri": "https://localhost:8080/",
          "height": 423
        },
        "id": "k5dYcjaeCVif",
        "outputId": "58b793bd-f394-4a6f-8c18-1bc29ee7cea4"
      },
      "outputs": [
        {
          "output_type": "execute_result",
          "data": {
            "text/plain": [
              "           id_k       iq_k  epsilon_k  n_k  n_1k      id_k1      iq_k1\n",
              "0     -81.45802  229.52930   2.240254  5.0   6.0 -105.73820  167.36170\n",
              "1     -140.6821  112.42340  -1.610116  7.0   2.0 -174.89710  128.22370\n",
              "2     -127.0724  171.74380  -1.971891  4.0   7.0  -92.96102  126.60810\n",
              "3      -42.2788  120.14950   1.300341  2.0   7.0  -82.23310  124.33790\n",
              "4     -48.02003   10.97132  -1.778834  1.0   4.0  -45.73148   11.60761\n",
              "...         ...        ...        ...  ...   ...        ...        ...\n",
              "99995 -107.4748  150.35050   2.111234  2.0   2.0 -116.00690  193.57910\n",
              "99996 -38.63023   63.84120   0.818639  3.0   6.0  -17.71651   82.51431\n",
              "99997 -65.93674   79.91692   1.816296  2.0   4.0  -89.80704   92.18458\n",
              "99998 -34.17585  201.69690   1.919415  6.0   1.0  -76.34132  174.44300\n",
              "99999 -179.0785   43.52158  -2.216697  5.0   5.0 -201.02030   51.59556\n",
              "\n",
              "[100000 rows x 7 columns]"
            ],
            "text/html": [
              "\n",
              "  <div id=\"df-3809bf9b-2a7c-4aff-9dff-8374dc9beb8a\">\n",
              "    <div class=\"colab-df-container\">\n",
              "      <div>\n",
              "<style scoped>\n",
              "    .dataframe tbody tr th:only-of-type {\n",
              "        vertical-align: middle;\n",
              "    }\n",
              "\n",
              "    .dataframe tbody tr th {\n",
              "        vertical-align: top;\n",
              "    }\n",
              "\n",
              "    .dataframe thead th {\n",
              "        text-align: right;\n",
              "    }\n",
              "</style>\n",
              "<table border=\"1\" class=\"dataframe\">\n",
              "  <thead>\n",
              "    <tr style=\"text-align: right;\">\n",
              "      <th></th>\n",
              "      <th>id_k</th>\n",
              "      <th>iq_k</th>\n",
              "      <th>epsilon_k</th>\n",
              "      <th>n_k</th>\n",
              "      <th>n_1k</th>\n",
              "      <th>id_k1</th>\n",
              "      <th>iq_k1</th>\n",
              "    </tr>\n",
              "  </thead>\n",
              "  <tbody>\n",
              "    <tr>\n",
              "      <th>0</th>\n",
              "      <td>-81.45802</td>\n",
              "      <td>229.52930</td>\n",
              "      <td>2.240254</td>\n",
              "      <td>5.0</td>\n",
              "      <td>6.0</td>\n",
              "      <td>-105.73820</td>\n",
              "      <td>167.36170</td>\n",
              "    </tr>\n",
              "    <tr>\n",
              "      <th>1</th>\n",
              "      <td>-140.6821</td>\n",
              "      <td>112.42340</td>\n",
              "      <td>-1.610116</td>\n",
              "      <td>7.0</td>\n",
              "      <td>2.0</td>\n",
              "      <td>-174.89710</td>\n",
              "      <td>128.22370</td>\n",
              "    </tr>\n",
              "    <tr>\n",
              "      <th>2</th>\n",
              "      <td>-127.0724</td>\n",
              "      <td>171.74380</td>\n",
              "      <td>-1.971891</td>\n",
              "      <td>4.0</td>\n",
              "      <td>7.0</td>\n",
              "      <td>-92.96102</td>\n",
              "      <td>126.60810</td>\n",
              "    </tr>\n",
              "    <tr>\n",
              "      <th>3</th>\n",
              "      <td>-42.2788</td>\n",
              "      <td>120.14950</td>\n",
              "      <td>1.300341</td>\n",
              "      <td>2.0</td>\n",
              "      <td>7.0</td>\n",
              "      <td>-82.23310</td>\n",
              "      <td>124.33790</td>\n",
              "    </tr>\n",
              "    <tr>\n",
              "      <th>4</th>\n",
              "      <td>-48.02003</td>\n",
              "      <td>10.97132</td>\n",
              "      <td>-1.778834</td>\n",
              "      <td>1.0</td>\n",
              "      <td>4.0</td>\n",
              "      <td>-45.73148</td>\n",
              "      <td>11.60761</td>\n",
              "    </tr>\n",
              "    <tr>\n",
              "      <th>...</th>\n",
              "      <td>...</td>\n",
              "      <td>...</td>\n",
              "      <td>...</td>\n",
              "      <td>...</td>\n",
              "      <td>...</td>\n",
              "      <td>...</td>\n",
              "      <td>...</td>\n",
              "    </tr>\n",
              "    <tr>\n",
              "      <th>99995</th>\n",
              "      <td>-107.4748</td>\n",
              "      <td>150.35050</td>\n",
              "      <td>2.111234</td>\n",
              "      <td>2.0</td>\n",
              "      <td>2.0</td>\n",
              "      <td>-116.00690</td>\n",
              "      <td>193.57910</td>\n",
              "    </tr>\n",
              "    <tr>\n",
              "      <th>99996</th>\n",
              "      <td>-38.63023</td>\n",
              "      <td>63.84120</td>\n",
              "      <td>0.818639</td>\n",
              "      <td>3.0</td>\n",
              "      <td>6.0</td>\n",
              "      <td>-17.71651</td>\n",
              "      <td>82.51431</td>\n",
              "    </tr>\n",
              "    <tr>\n",
              "      <th>99997</th>\n",
              "      <td>-65.93674</td>\n",
              "      <td>79.91692</td>\n",
              "      <td>1.816296</td>\n",
              "      <td>2.0</td>\n",
              "      <td>4.0</td>\n",
              "      <td>-89.80704</td>\n",
              "      <td>92.18458</td>\n",
              "    </tr>\n",
              "    <tr>\n",
              "      <th>99998</th>\n",
              "      <td>-34.17585</td>\n",
              "      <td>201.69690</td>\n",
              "      <td>1.919415</td>\n",
              "      <td>6.0</td>\n",
              "      <td>1.0</td>\n",
              "      <td>-76.34132</td>\n",
              "      <td>174.44300</td>\n",
              "    </tr>\n",
              "    <tr>\n",
              "      <th>99999</th>\n",
              "      <td>-179.0785</td>\n",
              "      <td>43.52158</td>\n",
              "      <td>-2.216697</td>\n",
              "      <td>5.0</td>\n",
              "      <td>5.0</td>\n",
              "      <td>-201.02030</td>\n",
              "      <td>51.59556</td>\n",
              "    </tr>\n",
              "  </tbody>\n",
              "</table>\n",
              "<p>100000 rows × 7 columns</p>\n",
              "</div>\n",
              "      <button class=\"colab-df-convert\" onclick=\"convertToInteractive('df-3809bf9b-2a7c-4aff-9dff-8374dc9beb8a')\"\n",
              "              title=\"Convert this dataframe to an interactive table.\"\n",
              "              style=\"display:none;\">\n",
              "        \n",
              "  <svg xmlns=\"http://www.w3.org/2000/svg\" height=\"24px\"viewBox=\"0 0 24 24\"\n",
              "       width=\"24px\">\n",
              "    <path d=\"M0 0h24v24H0V0z\" fill=\"none\"/>\n",
              "    <path d=\"M18.56 5.44l.94 2.06.94-2.06 2.06-.94-2.06-.94-.94-2.06-.94 2.06-2.06.94zm-11 1L8.5 8.5l.94-2.06 2.06-.94-2.06-.94L8.5 2.5l-.94 2.06-2.06.94zm10 10l.94 2.06.94-2.06 2.06-.94-2.06-.94-.94-2.06-.94 2.06-2.06.94z\"/><path d=\"M17.41 7.96l-1.37-1.37c-.4-.4-.92-.59-1.43-.59-.52 0-1.04.2-1.43.59L10.3 9.45l-7.72 7.72c-.78.78-.78 2.05 0 2.83L4 21.41c.39.39.9.59 1.41.59.51 0 1.02-.2 1.41-.59l7.78-7.78 2.81-2.81c.8-.78.8-2.07 0-2.86zM5.41 20L4 18.59l7.72-7.72 1.47 1.35L5.41 20z\"/>\n",
              "  </svg>\n",
              "      </button>\n",
              "      \n",
              "  <style>\n",
              "    .colab-df-container {\n",
              "      display:flex;\n",
              "      flex-wrap:wrap;\n",
              "      gap: 12px;\n",
              "    }\n",
              "\n",
              "    .colab-df-convert {\n",
              "      background-color: #E8F0FE;\n",
              "      border: none;\n",
              "      border-radius: 50%;\n",
              "      cursor: pointer;\n",
              "      display: none;\n",
              "      fill: #1967D2;\n",
              "      height: 32px;\n",
              "      padding: 0 0 0 0;\n",
              "      width: 32px;\n",
              "    }\n",
              "\n",
              "    .colab-df-convert:hover {\n",
              "      background-color: #E2EBFA;\n",
              "      box-shadow: 0px 1px 2px rgba(60, 64, 67, 0.3), 0px 1px 3px 1px rgba(60, 64, 67, 0.15);\n",
              "      fill: #174EA6;\n",
              "    }\n",
              "\n",
              "    [theme=dark] .colab-df-convert {\n",
              "      background-color: #3B4455;\n",
              "      fill: #D2E3FC;\n",
              "    }\n",
              "\n",
              "    [theme=dark] .colab-df-convert:hover {\n",
              "      background-color: #434B5C;\n",
              "      box-shadow: 0px 1px 3px 1px rgba(0, 0, 0, 0.15);\n",
              "      filter: drop-shadow(0px 1px 2px rgba(0, 0, 0, 0.3));\n",
              "      fill: #FFFFFF;\n",
              "    }\n",
              "  </style>\n",
              "\n",
              "      <script>\n",
              "        const buttonEl =\n",
              "          document.querySelector('#df-3809bf9b-2a7c-4aff-9dff-8374dc9beb8a button.colab-df-convert');\n",
              "        buttonEl.style.display =\n",
              "          google.colab.kernel.accessAllowed ? 'block' : 'none';\n",
              "\n",
              "        async function convertToInteractive(key) {\n",
              "          const element = document.querySelector('#df-3809bf9b-2a7c-4aff-9dff-8374dc9beb8a');\n",
              "          const dataTable =\n",
              "            await google.colab.kernel.invokeFunction('convertToInteractive',\n",
              "                                                     [key], {});\n",
              "          if (!dataTable) return;\n",
              "\n",
              "          const docLinkHtml = 'Like what you see? Visit the ' +\n",
              "            '<a target=\"_blank\" href=https://colab.research.google.com/notebooks/data_table.ipynb>data table notebook</a>'\n",
              "            + ' to learn more about interactive tables.';\n",
              "          element.innerHTML = '';\n",
              "          dataTable['output_type'] = 'display_data';\n",
              "          await google.colab.output.renderOutput(dataTable, element);\n",
              "          const docLink = document.createElement('div');\n",
              "          docLink.innerHTML = docLinkHtml;\n",
              "          element.appendChild(docLink);\n",
              "        }\n",
              "      </script>\n",
              "    </div>\n",
              "  </div>\n",
              "  "
            ]
          },
          "metadata": {},
          "execution_count": 3
        }
      ],
      "source": [
        "mydata=mydata[:100000:]\n",
        "mydata.dropna()\n",
        "mydata.dropna(inplace=True)\n",
        "mydata"
      ]
    },
    {
      "cell_type": "code",
      "execution_count": 4,
      "metadata": {
        "colab": {
          "base_uri": "https://localhost:8080/",
          "height": 292
        },
        "id": "Ez_pCpvS7cNP",
        "outputId": "5c91b693-c9df-45b3-b1af-6789a9cbbe90"
      },
      "outputs": [
        {
          "output_type": "stream",
          "name": "stderr",
          "text": [
            "<ipython-input-4-2ef0f2f25928>:1: FutureWarning: The default value of numeric_only in DataFrame.corr is deprecated. In a future version, it will default to False. Select only valid columns or specify the value of numeric_only to silence this warning.\n",
            "  mydata.corr()\n"
          ]
        },
        {
          "output_type": "execute_result",
          "data": {
            "text/plain": [
              "               iq_k  epsilon_k       n_k      n_1k     id_k1     iq_k1\n",
              "iq_k       1.000000  -0.002804 -0.010897 -0.003067  0.251238  0.946245\n",
              "epsilon_k -0.002804   1.000000 -0.068947 -0.060741  0.003678 -0.002820\n",
              "n_k       -0.010897  -0.068947  1.000000 -0.019366  0.018798  0.005573\n",
              "n_1k      -0.003067  -0.060741 -0.019366  1.000000  0.034769 -0.003015\n",
              "id_k1      0.251238   0.003678  0.018798  0.034769  1.000000  0.261742\n",
              "iq_k1      0.946245  -0.002820  0.005573 -0.003015  0.261742  1.000000"
            ],
            "text/html": [
              "\n",
              "  <div id=\"df-449fbd6b-5097-4733-a418-a1545bc5e528\">\n",
              "    <div class=\"colab-df-container\">\n",
              "      <div>\n",
              "<style scoped>\n",
              "    .dataframe tbody tr th:only-of-type {\n",
              "        vertical-align: middle;\n",
              "    }\n",
              "\n",
              "    .dataframe tbody tr th {\n",
              "        vertical-align: top;\n",
              "    }\n",
              "\n",
              "    .dataframe thead th {\n",
              "        text-align: right;\n",
              "    }\n",
              "</style>\n",
              "<table border=\"1\" class=\"dataframe\">\n",
              "  <thead>\n",
              "    <tr style=\"text-align: right;\">\n",
              "      <th></th>\n",
              "      <th>iq_k</th>\n",
              "      <th>epsilon_k</th>\n",
              "      <th>n_k</th>\n",
              "      <th>n_1k</th>\n",
              "      <th>id_k1</th>\n",
              "      <th>iq_k1</th>\n",
              "    </tr>\n",
              "  </thead>\n",
              "  <tbody>\n",
              "    <tr>\n",
              "      <th>iq_k</th>\n",
              "      <td>1.000000</td>\n",
              "      <td>-0.002804</td>\n",
              "      <td>-0.010897</td>\n",
              "      <td>-0.003067</td>\n",
              "      <td>0.251238</td>\n",
              "      <td>0.946245</td>\n",
              "    </tr>\n",
              "    <tr>\n",
              "      <th>epsilon_k</th>\n",
              "      <td>-0.002804</td>\n",
              "      <td>1.000000</td>\n",
              "      <td>-0.068947</td>\n",
              "      <td>-0.060741</td>\n",
              "      <td>0.003678</td>\n",
              "      <td>-0.002820</td>\n",
              "    </tr>\n",
              "    <tr>\n",
              "      <th>n_k</th>\n",
              "      <td>-0.010897</td>\n",
              "      <td>-0.068947</td>\n",
              "      <td>1.000000</td>\n",
              "      <td>-0.019366</td>\n",
              "      <td>0.018798</td>\n",
              "      <td>0.005573</td>\n",
              "    </tr>\n",
              "    <tr>\n",
              "      <th>n_1k</th>\n",
              "      <td>-0.003067</td>\n",
              "      <td>-0.060741</td>\n",
              "      <td>-0.019366</td>\n",
              "      <td>1.000000</td>\n",
              "      <td>0.034769</td>\n",
              "      <td>-0.003015</td>\n",
              "    </tr>\n",
              "    <tr>\n",
              "      <th>id_k1</th>\n",
              "      <td>0.251238</td>\n",
              "      <td>0.003678</td>\n",
              "      <td>0.018798</td>\n",
              "      <td>0.034769</td>\n",
              "      <td>1.000000</td>\n",
              "      <td>0.261742</td>\n",
              "    </tr>\n",
              "    <tr>\n",
              "      <th>iq_k1</th>\n",
              "      <td>0.946245</td>\n",
              "      <td>-0.002820</td>\n",
              "      <td>0.005573</td>\n",
              "      <td>-0.003015</td>\n",
              "      <td>0.261742</td>\n",
              "      <td>1.000000</td>\n",
              "    </tr>\n",
              "  </tbody>\n",
              "</table>\n",
              "</div>\n",
              "      <button class=\"colab-df-convert\" onclick=\"convertToInteractive('df-449fbd6b-5097-4733-a418-a1545bc5e528')\"\n",
              "              title=\"Convert this dataframe to an interactive table.\"\n",
              "              style=\"display:none;\">\n",
              "        \n",
              "  <svg xmlns=\"http://www.w3.org/2000/svg\" height=\"24px\"viewBox=\"0 0 24 24\"\n",
              "       width=\"24px\">\n",
              "    <path d=\"M0 0h24v24H0V0z\" fill=\"none\"/>\n",
              "    <path d=\"M18.56 5.44l.94 2.06.94-2.06 2.06-.94-2.06-.94-.94-2.06-.94 2.06-2.06.94zm-11 1L8.5 8.5l.94-2.06 2.06-.94-2.06-.94L8.5 2.5l-.94 2.06-2.06.94zm10 10l.94 2.06.94-2.06 2.06-.94-2.06-.94-.94-2.06-.94 2.06-2.06.94z\"/><path d=\"M17.41 7.96l-1.37-1.37c-.4-.4-.92-.59-1.43-.59-.52 0-1.04.2-1.43.59L10.3 9.45l-7.72 7.72c-.78.78-.78 2.05 0 2.83L4 21.41c.39.39.9.59 1.41.59.51 0 1.02-.2 1.41-.59l7.78-7.78 2.81-2.81c.8-.78.8-2.07 0-2.86zM5.41 20L4 18.59l7.72-7.72 1.47 1.35L5.41 20z\"/>\n",
              "  </svg>\n",
              "      </button>\n",
              "      \n",
              "  <style>\n",
              "    .colab-df-container {\n",
              "      display:flex;\n",
              "      flex-wrap:wrap;\n",
              "      gap: 12px;\n",
              "    }\n",
              "\n",
              "    .colab-df-convert {\n",
              "      background-color: #E8F0FE;\n",
              "      border: none;\n",
              "      border-radius: 50%;\n",
              "      cursor: pointer;\n",
              "      display: none;\n",
              "      fill: #1967D2;\n",
              "      height: 32px;\n",
              "      padding: 0 0 0 0;\n",
              "      width: 32px;\n",
              "    }\n",
              "\n",
              "    .colab-df-convert:hover {\n",
              "      background-color: #E2EBFA;\n",
              "      box-shadow: 0px 1px 2px rgba(60, 64, 67, 0.3), 0px 1px 3px 1px rgba(60, 64, 67, 0.15);\n",
              "      fill: #174EA6;\n",
              "    }\n",
              "\n",
              "    [theme=dark] .colab-df-convert {\n",
              "      background-color: #3B4455;\n",
              "      fill: #D2E3FC;\n",
              "    }\n",
              "\n",
              "    [theme=dark] .colab-df-convert:hover {\n",
              "      background-color: #434B5C;\n",
              "      box-shadow: 0px 1px 3px 1px rgba(0, 0, 0, 0.15);\n",
              "      filter: drop-shadow(0px 1px 2px rgba(0, 0, 0, 0.3));\n",
              "      fill: #FFFFFF;\n",
              "    }\n",
              "  </style>\n",
              "\n",
              "      <script>\n",
              "        const buttonEl =\n",
              "          document.querySelector('#df-449fbd6b-5097-4733-a418-a1545bc5e528 button.colab-df-convert');\n",
              "        buttonEl.style.display =\n",
              "          google.colab.kernel.accessAllowed ? 'block' : 'none';\n",
              "\n",
              "        async function convertToInteractive(key) {\n",
              "          const element = document.querySelector('#df-449fbd6b-5097-4733-a418-a1545bc5e528');\n",
              "          const dataTable =\n",
              "            await google.colab.kernel.invokeFunction('convertToInteractive',\n",
              "                                                     [key], {});\n",
              "          if (!dataTable) return;\n",
              "\n",
              "          const docLinkHtml = 'Like what you see? Visit the ' +\n",
              "            '<a target=\"_blank\" href=https://colab.research.google.com/notebooks/data_table.ipynb>data table notebook</a>'\n",
              "            + ' to learn more about interactive tables.';\n",
              "          element.innerHTML = '';\n",
              "          dataTable['output_type'] = 'display_data';\n",
              "          await google.colab.output.renderOutput(dataTable, element);\n",
              "          const docLink = document.createElement('div');\n",
              "          docLink.innerHTML = docLinkHtml;\n",
              "          element.appendChild(docLink);\n",
              "        }\n",
              "      </script>\n",
              "    </div>\n",
              "  </div>\n",
              "  "
            ]
          },
          "metadata": {},
          "execution_count": 4
        }
      ],
      "source": [
        "mydata.corr()"
      ]
    },
    {
      "cell_type": "code",
      "execution_count": 5,
      "metadata": {
        "colab": {
          "base_uri": "https://localhost:8080/",
          "height": 423
        },
        "id": "tLZtV4Pc7fN-",
        "outputId": "f4073b7f-af3b-48ec-e291-dde521d4371b"
      },
      "outputs": [
        {
          "output_type": "execute_result",
          "data": {
            "text/plain": [
              "           id_k       iq_k  epsilon_k  n_k  n_1k      id_k1      iq_k1\n",
              "0     -81.45802  229.52930   2.240254  5.0   6.0 -105.73820  167.36170\n",
              "1     -140.6821  112.42340  -1.610116  7.0   2.0 -174.89710  128.22370\n",
              "2     -127.0724  171.74380  -1.971891  4.0   7.0  -92.96102  126.60810\n",
              "3      -42.2788  120.14950   1.300341  2.0   7.0  -82.23310  124.33790\n",
              "4     -48.02003   10.97132  -1.778834  1.0   4.0  -45.73148   11.60761\n",
              "...         ...        ...        ...  ...   ...        ...        ...\n",
              "99995 -107.4748  150.35050   2.111234  2.0   2.0 -116.00690  193.57910\n",
              "99996 -38.63023   63.84120   0.818639  3.0   6.0  -17.71651   82.51431\n",
              "99997 -65.93674   79.91692   1.816296  2.0   4.0  -89.80704   92.18458\n",
              "99998 -34.17585  201.69690   1.919415  6.0   1.0  -76.34132  174.44300\n",
              "99999 -179.0785   43.52158  -2.216697  5.0   5.0 -201.02030   51.59556\n",
              "\n",
              "[100000 rows x 7 columns]"
            ],
            "text/html": [
              "\n",
              "  <div id=\"df-93230c62-995a-42de-8961-c03d2d22f9ca\">\n",
              "    <div class=\"colab-df-container\">\n",
              "      <div>\n",
              "<style scoped>\n",
              "    .dataframe tbody tr th:only-of-type {\n",
              "        vertical-align: middle;\n",
              "    }\n",
              "\n",
              "    .dataframe tbody tr th {\n",
              "        vertical-align: top;\n",
              "    }\n",
              "\n",
              "    .dataframe thead th {\n",
              "        text-align: right;\n",
              "    }\n",
              "</style>\n",
              "<table border=\"1\" class=\"dataframe\">\n",
              "  <thead>\n",
              "    <tr style=\"text-align: right;\">\n",
              "      <th></th>\n",
              "      <th>id_k</th>\n",
              "      <th>iq_k</th>\n",
              "      <th>epsilon_k</th>\n",
              "      <th>n_k</th>\n",
              "      <th>n_1k</th>\n",
              "      <th>id_k1</th>\n",
              "      <th>iq_k1</th>\n",
              "    </tr>\n",
              "  </thead>\n",
              "  <tbody>\n",
              "    <tr>\n",
              "      <th>0</th>\n",
              "      <td>-81.45802</td>\n",
              "      <td>229.52930</td>\n",
              "      <td>2.240254</td>\n",
              "      <td>5.0</td>\n",
              "      <td>6.0</td>\n",
              "      <td>-105.73820</td>\n",
              "      <td>167.36170</td>\n",
              "    </tr>\n",
              "    <tr>\n",
              "      <th>1</th>\n",
              "      <td>-140.6821</td>\n",
              "      <td>112.42340</td>\n",
              "      <td>-1.610116</td>\n",
              "      <td>7.0</td>\n",
              "      <td>2.0</td>\n",
              "      <td>-174.89710</td>\n",
              "      <td>128.22370</td>\n",
              "    </tr>\n",
              "    <tr>\n",
              "      <th>2</th>\n",
              "      <td>-127.0724</td>\n",
              "      <td>171.74380</td>\n",
              "      <td>-1.971891</td>\n",
              "      <td>4.0</td>\n",
              "      <td>7.0</td>\n",
              "      <td>-92.96102</td>\n",
              "      <td>126.60810</td>\n",
              "    </tr>\n",
              "    <tr>\n",
              "      <th>3</th>\n",
              "      <td>-42.2788</td>\n",
              "      <td>120.14950</td>\n",
              "      <td>1.300341</td>\n",
              "      <td>2.0</td>\n",
              "      <td>7.0</td>\n",
              "      <td>-82.23310</td>\n",
              "      <td>124.33790</td>\n",
              "    </tr>\n",
              "    <tr>\n",
              "      <th>4</th>\n",
              "      <td>-48.02003</td>\n",
              "      <td>10.97132</td>\n",
              "      <td>-1.778834</td>\n",
              "      <td>1.0</td>\n",
              "      <td>4.0</td>\n",
              "      <td>-45.73148</td>\n",
              "      <td>11.60761</td>\n",
              "    </tr>\n",
              "    <tr>\n",
              "      <th>...</th>\n",
              "      <td>...</td>\n",
              "      <td>...</td>\n",
              "      <td>...</td>\n",
              "      <td>...</td>\n",
              "      <td>...</td>\n",
              "      <td>...</td>\n",
              "      <td>...</td>\n",
              "    </tr>\n",
              "    <tr>\n",
              "      <th>99995</th>\n",
              "      <td>-107.4748</td>\n",
              "      <td>150.35050</td>\n",
              "      <td>2.111234</td>\n",
              "      <td>2.0</td>\n",
              "      <td>2.0</td>\n",
              "      <td>-116.00690</td>\n",
              "      <td>193.57910</td>\n",
              "    </tr>\n",
              "    <tr>\n",
              "      <th>99996</th>\n",
              "      <td>-38.63023</td>\n",
              "      <td>63.84120</td>\n",
              "      <td>0.818639</td>\n",
              "      <td>3.0</td>\n",
              "      <td>6.0</td>\n",
              "      <td>-17.71651</td>\n",
              "      <td>82.51431</td>\n",
              "    </tr>\n",
              "    <tr>\n",
              "      <th>99997</th>\n",
              "      <td>-65.93674</td>\n",
              "      <td>79.91692</td>\n",
              "      <td>1.816296</td>\n",
              "      <td>2.0</td>\n",
              "      <td>4.0</td>\n",
              "      <td>-89.80704</td>\n",
              "      <td>92.18458</td>\n",
              "    </tr>\n",
              "    <tr>\n",
              "      <th>99998</th>\n",
              "      <td>-34.17585</td>\n",
              "      <td>201.69690</td>\n",
              "      <td>1.919415</td>\n",
              "      <td>6.0</td>\n",
              "      <td>1.0</td>\n",
              "      <td>-76.34132</td>\n",
              "      <td>174.44300</td>\n",
              "    </tr>\n",
              "    <tr>\n",
              "      <th>99999</th>\n",
              "      <td>-179.0785</td>\n",
              "      <td>43.52158</td>\n",
              "      <td>-2.216697</td>\n",
              "      <td>5.0</td>\n",
              "      <td>5.0</td>\n",
              "      <td>-201.02030</td>\n",
              "      <td>51.59556</td>\n",
              "    </tr>\n",
              "  </tbody>\n",
              "</table>\n",
              "<p>100000 rows × 7 columns</p>\n",
              "</div>\n",
              "      <button class=\"colab-df-convert\" onclick=\"convertToInteractive('df-93230c62-995a-42de-8961-c03d2d22f9ca')\"\n",
              "              title=\"Convert this dataframe to an interactive table.\"\n",
              "              style=\"display:none;\">\n",
              "        \n",
              "  <svg xmlns=\"http://www.w3.org/2000/svg\" height=\"24px\"viewBox=\"0 0 24 24\"\n",
              "       width=\"24px\">\n",
              "    <path d=\"M0 0h24v24H0V0z\" fill=\"none\"/>\n",
              "    <path d=\"M18.56 5.44l.94 2.06.94-2.06 2.06-.94-2.06-.94-.94-2.06-.94 2.06-2.06.94zm-11 1L8.5 8.5l.94-2.06 2.06-.94-2.06-.94L8.5 2.5l-.94 2.06-2.06.94zm10 10l.94 2.06.94-2.06 2.06-.94-2.06-.94-.94-2.06-.94 2.06-2.06.94z\"/><path d=\"M17.41 7.96l-1.37-1.37c-.4-.4-.92-.59-1.43-.59-.52 0-1.04.2-1.43.59L10.3 9.45l-7.72 7.72c-.78.78-.78 2.05 0 2.83L4 21.41c.39.39.9.59 1.41.59.51 0 1.02-.2 1.41-.59l7.78-7.78 2.81-2.81c.8-.78.8-2.07 0-2.86zM5.41 20L4 18.59l7.72-7.72 1.47 1.35L5.41 20z\"/>\n",
              "  </svg>\n",
              "      </button>\n",
              "      \n",
              "  <style>\n",
              "    .colab-df-container {\n",
              "      display:flex;\n",
              "      flex-wrap:wrap;\n",
              "      gap: 12px;\n",
              "    }\n",
              "\n",
              "    .colab-df-convert {\n",
              "      background-color: #E8F0FE;\n",
              "      border: none;\n",
              "      border-radius: 50%;\n",
              "      cursor: pointer;\n",
              "      display: none;\n",
              "      fill: #1967D2;\n",
              "      height: 32px;\n",
              "      padding: 0 0 0 0;\n",
              "      width: 32px;\n",
              "    }\n",
              "\n",
              "    .colab-df-convert:hover {\n",
              "      background-color: #E2EBFA;\n",
              "      box-shadow: 0px 1px 2px rgba(60, 64, 67, 0.3), 0px 1px 3px 1px rgba(60, 64, 67, 0.15);\n",
              "      fill: #174EA6;\n",
              "    }\n",
              "\n",
              "    [theme=dark] .colab-df-convert {\n",
              "      background-color: #3B4455;\n",
              "      fill: #D2E3FC;\n",
              "    }\n",
              "\n",
              "    [theme=dark] .colab-df-convert:hover {\n",
              "      background-color: #434B5C;\n",
              "      box-shadow: 0px 1px 3px 1px rgba(0, 0, 0, 0.15);\n",
              "      filter: drop-shadow(0px 1px 2px rgba(0, 0, 0, 0.3));\n",
              "      fill: #FFFFFF;\n",
              "    }\n",
              "  </style>\n",
              "\n",
              "      <script>\n",
              "        const buttonEl =\n",
              "          document.querySelector('#df-93230c62-995a-42de-8961-c03d2d22f9ca button.colab-df-convert');\n",
              "        buttonEl.style.display =\n",
              "          google.colab.kernel.accessAllowed ? 'block' : 'none';\n",
              "\n",
              "        async function convertToInteractive(key) {\n",
              "          const element = document.querySelector('#df-93230c62-995a-42de-8961-c03d2d22f9ca');\n",
              "          const dataTable =\n",
              "            await google.colab.kernel.invokeFunction('convertToInteractive',\n",
              "                                                     [key], {});\n",
              "          if (!dataTable) return;\n",
              "\n",
              "          const docLinkHtml = 'Like what you see? Visit the ' +\n",
              "            '<a target=\"_blank\" href=https://colab.research.google.com/notebooks/data_table.ipynb>data table notebook</a>'\n",
              "            + ' to learn more about interactive tables.';\n",
              "          element.innerHTML = '';\n",
              "          dataTable['output_type'] = 'display_data';\n",
              "          await google.colab.output.renderOutput(dataTable, element);\n",
              "          const docLink = document.createElement('div');\n",
              "          docLink.innerHTML = docLinkHtml;\n",
              "          element.appendChild(docLink);\n",
              "        }\n",
              "      </script>\n",
              "    </div>\n",
              "  </div>\n",
              "  "
            ]
          },
          "metadata": {},
          "execution_count": 5
        }
      ],
      "source": [
        "# input data\n",
        "X = mydata\n",
        "X"
      ]
    },
    {
      "cell_type": "code",
      "execution_count": 6,
      "metadata": {
        "colab": {
          "base_uri": "https://localhost:8080/"
        },
        "id": "GPjgTAia8D2b",
        "outputId": "e4ecc5f4-d6fa-492f-910d-797420311961"
      },
      "outputs": [
        {
          "output_type": "execute_result",
          "data": {
            "text/plain": [
              "0       -105.73820\n",
              "1       -174.89710\n",
              "2        -92.96102\n",
              "3        -82.23310\n",
              "4        -45.73148\n",
              "           ...    \n",
              "99995   -116.00690\n",
              "99996    -17.71651\n",
              "99997    -89.80704\n",
              "99998    -76.34132\n",
              "99999   -201.02030\n",
              "Name: id_k1, Length: 100000, dtype: float64"
            ]
          },
          "metadata": {},
          "execution_count": 6
        }
      ],
      "source": [
        "y=mydata['id_k1']\n",
        "y"
      ]
    },
    {
      "cell_type": "code",
      "execution_count": 7,
      "metadata": {
        "colab": {
          "base_uri": "https://localhost:8080/"
        },
        "id": "8WhknHwQ8j-y",
        "outputId": "4000b0b7-d0e0-416e-a0e8-ade4dbeaa3ca"
      },
      "outputs": [
        {
          "output_type": "execute_result",
          "data": {
            "text/plain": [
              "0        167.36170\n",
              "1        128.22370\n",
              "2        126.60810\n",
              "3        124.33790\n",
              "4         11.60761\n",
              "           ...    \n",
              "99995    193.57910\n",
              "99996     82.51431\n",
              "99997     92.18458\n",
              "99998    174.44300\n",
              "99999     51.59556\n",
              "Name: iq_k1, Length: 100000, dtype: float64"
            ]
          },
          "metadata": {},
          "execution_count": 7
        }
      ],
      "source": [
        "z = mydata['iq_k1']\n",
        "z"
      ]
    },
    {
      "cell_type": "code",
      "execution_count": 8,
      "metadata": {
        "id": "6u8n09828xrV"
      },
      "outputs": [],
      "source": [
        "# splitting dataset into training and testing\n",
        "# importing train_test-split function\n",
        "from sklearn.model_selection import train_test_split\n",
        "# splitting the dataset"
      ]
    },
    {
      "cell_type": "code",
      "execution_count": 9,
      "metadata": {
        "id": "T1s4Urz689Sl"
      },
      "outputs": [],
      "source": [
        "X_train,X_test,y_train,y_test,z_train,z_test = train_test_split(X,y,z,test_size=0.20,random_state=30)\n"
      ]
    },
    {
      "cell_type": "code",
      "execution_count": 10,
      "metadata": {
        "colab": {
          "base_uri": "https://localhost:8080/"
        },
        "id": "KG930xDN9jJH",
        "outputId": "5d0bcabe-8e96-4a3b-e853-941680b24447"
      },
      "outputs": [
        {
          "output_type": "stream",
          "name": "stdout",
          "text": [
            "(80000, 7) (20000, 7) (80000,) (20000,) (80000,) (20000,)\n"
          ]
        }
      ],
      "source": [
        "print(X_train.shape,X_test.shape,y_train.shape,y_test.shape,z_train.shape,z_test.shape)"
      ]
    },
    {
      "cell_type": "code",
      "execution_count": 10,
      "metadata": {
        "id": "Qzs8CcQa7vZl"
      },
      "outputs": [],
      "source": []
    },
    {
      "cell_type": "code",
      "execution_count": 11,
      "metadata": {
        "id": "ml4n07jw2Jqn"
      },
      "outputs": [],
      "source": [
        "# preprocessing\n",
        "\n",
        "from sklearn.preprocessing import StandardScaler\n",
        "\n",
        "# create a StandardScaler object\n",
        "scaler = StandardScaler()\n",
        "\n",
        "# fit the scaler on the training data\n",
        "X_train = scaler.fit_transform(X_train)\n",
        "X_test = scaler.transform(X_test)\n",
        "\n",
        "# mean is zero and standard deviation is one\n"
      ]
    },
    {
      "cell_type": "code",
      "execution_count": 12,
      "metadata": {
        "id": "jjHgmd_Z97hE"
      },
      "outputs": [],
      "source": [
        "# Support vector Regression\n",
        "from sklearn.svm import SVR"
      ]
    },
    {
      "cell_type": "code",
      "execution_count": 13,
      "metadata": {
        "id": "MWm_F9v88DJJ"
      },
      "outputs": [],
      "source": [
        "# from sklearn.model_selection import KFold\n",
        "\n",
        "# # set the number of folds\n",
        "# k = 5\n",
        "\n",
        "# # create a KFold object\n",
        "# kf = KFold(n_splits=k, shuffle=True, random_state=42)\n",
        "\n",
        "LL_svr1 = SVR().fit(X_train,y_train)\n",
        "LL_svr2 = SVR().fit(X_train,z_train)\n"
      ]
    },
    {
      "cell_type": "code",
      "execution_count": 14,
      "metadata": {
        "id": "_C54Lu07BlJ4",
        "colab": {
          "base_uri": "https://localhost:8080/"
        },
        "outputId": "e8885eb6-0eda-4428-96c0-fdc82be9d607"
      },
      "outputs": [
        {
          "output_type": "stream",
          "name": "stdout",
          "text": [
            "The r_sq value is : 1.00\n"
          ]
        }
      ],
      "source": [
        "print('The r_sq value is : %.2f'% LL_svr1.score(X_train,y_train))"
      ]
    },
    {
      "cell_type": "code",
      "execution_count": 15,
      "metadata": {
        "id": "CLZ2OzdrBwc9",
        "colab": {
          "base_uri": "https://localhost:8080/"
        },
        "outputId": "b4f4e7c9-2da1-4d13-bb63-92b82f9f4cec"
      },
      "outputs": [
        {
          "output_type": "stream",
          "name": "stdout",
          "text": [
            "The r_sq value is : 1.00\n"
          ]
        }
      ],
      "source": [
        "print('The r_sq value is : %.2f'% LL_svr2.score(X_train,z_train))"
      ]
    },
    {
      "cell_type": "code",
      "execution_count": 16,
      "metadata": {
        "id": "LjzXp8XdBzXi"
      },
      "outputs": [],
      "source": [
        "from sklearn.metrics import mean_absolute_error,mean_squared_error,r2_score,explained_variance_score"
      ]
    },
    {
      "cell_type": "code",
      "execution_count": 17,
      "metadata": {
        "id": "dm0ffLYNCCuY"
      },
      "outputs": [],
      "source": [
        "# predicting the training data\n",
        "ytrain_pred = LL_svr1.predict(X_train)\n",
        "ztrain_pred = LL_svr2.predict(X_train)"
      ]
    },
    {
      "cell_type": "code",
      "execution_count": 18,
      "metadata": {
        "id": "YebSs_5XDaFi",
        "colab": {
          "base_uri": "https://localhost:8080/"
        },
        "outputId": "fb4fc1a8-247e-4391-cc50-1e46c69be5f6"
      },
      "outputs": [
        {
          "output_type": "stream",
          "name": "stdout",
          "text": [
            "The r_2 score is : 1.00\n"
          ]
        }
      ],
      "source": [
        "print('The r_2 score is : %.2f'% r2_score(y_train,ytrain_pred))"
      ]
    },
    {
      "cell_type": "code",
      "execution_count": 19,
      "metadata": {
        "id": "vpCUYOF9Dp7z",
        "colab": {
          "base_uri": "https://localhost:8080/"
        },
        "outputId": "7b54bfa6-3322-4291-cc14-2057966d8ab0"
      },
      "outputs": [
        {
          "output_type": "stream",
          "name": "stdout",
          "text": [
            "The Mean Absolute Error is : 0.66\n"
          ]
        }
      ],
      "source": [
        "# Mean Absolute error\n",
        "print('The Mean Absolute Error is : %.2f'% mean_absolute_error(y_train,ytrain_pred))"
      ]
    },
    {
      "cell_type": "code",
      "execution_count": 20,
      "metadata": {
        "id": "J3_OvxTfEBid",
        "colab": {
          "base_uri": "https://localhost:8080/"
        },
        "outputId": "3618d2eb-1764-40d4-dbf6-ed21112e6435"
      },
      "outputs": [
        {
          "output_type": "stream",
          "name": "stdout",
          "text": [
            "The Mean Squared Error is : 2.88\n"
          ]
        }
      ],
      "source": [
        "# The mean squared error is :\n",
        "print('The Mean Squared Error is : %.2f'% mean_squared_error(y_train,ytrain_pred))\n"
      ]
    },
    {
      "cell_type": "code",
      "execution_count": 21,
      "metadata": {
        "id": "ZOktgZYjENx-",
        "colab": {
          "base_uri": "https://localhost:8080/"
        },
        "outputId": "93561e93-2067-4f6f-db30-2951b76d85ea"
      },
      "outputs": [
        {
          "output_type": "stream",
          "name": "stdout",
          "text": [
            "The Root Mean Squared Error is : 1.70\n"
          ]
        }
      ],
      "source": [
        "# The root mean squared error is :\n",
        "import numpy as np\n",
        "print('The Root Mean Squared Error is : %.2f'% np.sqrt(mean_squared_error(y_train,ytrain_pred)))\n"
      ]
    },
    {
      "cell_type": "code",
      "execution_count": 22,
      "metadata": {
        "id": "-_PAqAmSEZ2x",
        "colab": {
          "base_uri": "https://localhost:8080/"
        },
        "outputId": "598beaa7-8b83-489d-e22a-e6256a7825c4"
      },
      "outputs": [
        {
          "output_type": "stream",
          "name": "stdout",
          "text": [
            "The EVS is : 1.00\n"
          ]
        }
      ],
      "source": [
        "# the explained variance score EVS\n",
        "print('The EVS is : %.2f'% explained_variance_score(y_train,ytrain_pred))"
      ]
    },
    {
      "cell_type": "code",
      "execution_count": 23,
      "metadata": {
        "id": "Eis2BnCaFFoo"
      },
      "outputs": [],
      "source": [
        "ytest_pred = LL_svr1.predict(X_test)"
      ]
    },
    {
      "cell_type": "code",
      "execution_count": 24,
      "metadata": {
        "id": "IvUKh9qyFSyo",
        "colab": {
          "base_uri": "https://localhost:8080/"
        },
        "outputId": "c63d11f1-1099-4908-c1aa-c93bbfa5eb74"
      },
      "outputs": [
        {
          "output_type": "stream",
          "name": "stdout",
          "text": [
            "The r_2 score is : 1.00\n"
          ]
        }
      ],
      "source": [
        "# the coeffecient of determination\n",
        "print('The r_2 score is : %0.2f'% r2_score(y_test,ytest_pred))"
      ]
    },
    {
      "cell_type": "code",
      "execution_count": 25,
      "metadata": {
        "id": "MSDf09WbJlwD"
      },
      "outputs": [],
      "source": [
        "# print('The r_sq is : %.2f'% LL_svr1.score(X_test,y_test))"
      ]
    },
    {
      "cell_type": "code",
      "execution_count": 26,
      "metadata": {
        "id": "-SK08z4YIsOB",
        "colab": {
          "base_uri": "https://localhost:8080/"
        },
        "outputId": "d220673a-7d7e-4251-973b-afdb63d46a1c"
      },
      "outputs": [
        {
          "output_type": "stream",
          "name": "stdout",
          "text": [
            "The r_2 score is : 1.00\n"
          ]
        }
      ],
      "source": [
        "print('The r_2 score is : %.2f'% r2_score(z_train,ztrain_pred))"
      ]
    },
    {
      "cell_type": "code",
      "execution_count": 27,
      "metadata": {
        "id": "HgX81JEdIzo0",
        "colab": {
          "base_uri": "https://localhost:8080/"
        },
        "outputId": "3a4e89bd-79dc-4276-99de-96fffd9bc084"
      },
      "outputs": [
        {
          "output_type": "stream",
          "name": "stdout",
          "text": [
            "The Mean Absolute Error is : 0.63\n"
          ]
        }
      ],
      "source": [
        "# Mean Absolute error\n",
        "print('The Mean Absolute Error is : %.2f'% mean_absolute_error(z_train,ztrain_pred))"
      ]
    },
    {
      "cell_type": "code",
      "execution_count": 28,
      "metadata": {
        "id": "JJL493uPI3ny",
        "colab": {
          "base_uri": "https://localhost:8080/"
        },
        "outputId": "a7ebe004-7eb5-401c-9035-08d00a338473"
      },
      "outputs": [
        {
          "output_type": "stream",
          "name": "stdout",
          "text": [
            "The Mean Squared Error is : 4.48\n"
          ]
        }
      ],
      "source": [
        "# The mean squared error is :\n",
        "print('The Mean Squared Error is : %.2f'% mean_squared_error(z_train,ztrain_pred))\n"
      ]
    },
    {
      "cell_type": "markdown",
      "metadata": {
        "id": "brovVF0rIv7J"
      },
      "source": []
    },
    {
      "cell_type": "code",
      "execution_count": 29,
      "metadata": {
        "id": "-vP4nlmeI8gh",
        "colab": {
          "base_uri": "https://localhost:8080/"
        },
        "outputId": "59a9ec69-0e39-4e6b-e308-77514e5b5cee"
      },
      "outputs": [
        {
          "output_type": "stream",
          "name": "stdout",
          "text": [
            "The Root Mean Squared Error is : 2.12\n"
          ]
        }
      ],
      "source": [
        "# The root mean squared error is :\n",
        "import numpy as np\n",
        "print('The Root Mean Squared Error is : %.2f'% np.sqrt(mean_squared_error(z_train,ztrain_pred)))\n"
      ]
    },
    {
      "cell_type": "code",
      "execution_count": 30,
      "metadata": {
        "id": "NTuhMMprI_Aa",
        "colab": {
          "base_uri": "https://localhost:8080/"
        },
        "outputId": "c84ca74c-0c26-4a10-aa2a-fb932341c22c"
      },
      "outputs": [
        {
          "output_type": "stream",
          "name": "stdout",
          "text": [
            "The EVS is : 1.00\n"
          ]
        }
      ],
      "source": [
        "# the explained variance score EVS\n",
        "print('The EVS is : %.2f'% explained_variance_score(z_train,ztrain_pred))"
      ]
    },
    {
      "cell_type": "code",
      "execution_count": 31,
      "metadata": {
        "id": "Oz48vd1MJE4W"
      },
      "outputs": [],
      "source": [
        "ztest_pred = LL_svr2.predict(X_test)"
      ]
    },
    {
      "cell_type": "code",
      "execution_count": 32,
      "metadata": {
        "id": "lKoj0nWzJJ_7",
        "colab": {
          "base_uri": "https://localhost:8080/"
        },
        "outputId": "53875ef5-6fe3-48e0-f839-a5b7600f0874"
      },
      "outputs": [
        {
          "output_type": "stream",
          "name": "stdout",
          "text": [
            "The r2_score is : 1.00\n"
          ]
        }
      ],
      "source": [
        "# the coeffecient of determination\n",
        "print('The r2_score is : %0.2f'% r2_score(z_test,ztest_pred))"
      ]
    },
    {
      "cell_type": "code",
      "execution_count": 33,
      "metadata": {
        "id": "0Kk_4JMLJMFz"
      },
      "outputs": [],
      "source": [
        "# print('The r_sq is : %.2f'% LL_svr2.score(X_test,z_test))"
      ]
    },
    {
      "cell_type": "code",
      "execution_count": 34,
      "metadata": {
        "id": "yExO5rlxQTjo",
        "colab": {
          "base_uri": "https://localhost:8080/"
        },
        "outputId": "c3884191-ec7e-4f0f-9a87-c30a4b32bf6c"
      },
      "outputs": [
        {
          "output_type": "stream",
          "name": "stdout",
          "text": [
            "The MAE is : 0.68\n"
          ]
        }
      ],
      "source": [
        "# Mean Absolute Error is\n",
        "print('The MAE is : %.2f'% mean_absolute_error(y_test,ytest_pred))"
      ]
    },
    {
      "cell_type": "code",
      "execution_count": 35,
      "metadata": {
        "id": "dXtjqQkFRBo0",
        "colab": {
          "base_uri": "https://localhost:8080/"
        },
        "outputId": "a434c6b4-2ff1-4c57-88a6-aefd4853b67a"
      },
      "outputs": [
        {
          "output_type": "stream",
          "name": "stdout",
          "text": [
            "The MSE is : 3.22\n"
          ]
        }
      ],
      "source": [
        "# Mean Square Error is\n",
        "print('The MSE is : %.2f'% mean_squared_error(y_test,ytest_pred))"
      ]
    },
    {
      "cell_type": "code",
      "execution_count": 36,
      "metadata": {
        "id": "J8D_EtsWRN4s",
        "colab": {
          "base_uri": "https://localhost:8080/"
        },
        "outputId": "d61d8949-f6e2-4a48-8f34-8f042bbb0f3b"
      },
      "outputs": [
        {
          "output_type": "stream",
          "name": "stdout",
          "text": [
            "The RMAE is : 0.82\n"
          ]
        }
      ],
      "source": [
        "# Root Mean Square Error is\n",
        "print('The RMAE is : %.2f'% np.sqrt(mean_absolute_error(y_test,ytest_pred)))"
      ]
    },
    {
      "cell_type": "code",
      "execution_count": 37,
      "metadata": {
        "id": "3g5PhAdC7KAx",
        "colab": {
          "base_uri": "https://localhost:8080/"
        },
        "outputId": "087763b1-d168-4d16-a7ba-cab0b4cc23d9"
      },
      "outputs": [
        {
          "output_type": "stream",
          "name": "stdout",
          "text": [
            "The RMSE is : 1.79\n"
          ]
        }
      ],
      "source": [
        "# Root Mean Square Error is\n",
        "print('The RMSE is : %.2f'% np.sqrt(mean_squared_error(y_test,ytest_pred)))"
      ]
    },
    {
      "cell_type": "code",
      "execution_count": 38,
      "metadata": {
        "id": "PLUPL1YHRX40",
        "colab": {
          "base_uri": "https://localhost:8080/"
        },
        "outputId": "f7c5dc67-d72d-4fec-aab3-ebac4501ebb7"
      },
      "outputs": [
        {
          "output_type": "stream",
          "name": "stdout",
          "text": [
            "The MSE is : 4.93\n"
          ]
        }
      ],
      "source": [
        "# Mean Square Error is\n",
        "print('The MSE is : %.2f'% mean_squared_error(z_test,ztest_pred))"
      ]
    },
    {
      "cell_type": "code",
      "execution_count": 39,
      "metadata": {
        "id": "gjGeHomIRdFA",
        "colab": {
          "base_uri": "https://localhost:8080/"
        },
        "outputId": "605ef031-741a-4519-c4b6-f214b68a8b8c"
      },
      "outputs": [
        {
          "output_type": "stream",
          "name": "stdout",
          "text": [
            "The MAE is : 0.66\n"
          ]
        }
      ],
      "source": [
        "# Mean Absolute Error is\n",
        "print('The MAE is : %.2f'% mean_absolute_error(z_test,ztest_pred))"
      ]
    },
    {
      "cell_type": "code",
      "execution_count": 40,
      "metadata": {
        "id": "MTBF27qh7EMH",
        "colab": {
          "base_uri": "https://localhost:8080/"
        },
        "outputId": "8d87e9cc-d12c-4c3e-fe84-cf26b3686953"
      },
      "outputs": [
        {
          "output_type": "stream",
          "name": "stdout",
          "text": [
            "The RMSE is : 2.22\n"
          ]
        }
      ],
      "source": [
        "# Root Mean Square Error is\n",
        "print('The RMSE is : %.2f'% np.sqrt(mean_squared_error(z_test,ztest_pred)))"
      ]
    },
    {
      "cell_type": "code",
      "execution_count": 41,
      "metadata": {
        "id": "ND0ibMquReHx",
        "colab": {
          "base_uri": "https://localhost:8080/"
        },
        "outputId": "c98aa639-787e-4312-e512-a897d4e6f857"
      },
      "outputs": [
        {
          "output_type": "stream",
          "name": "stdout",
          "text": [
            "The RMAE is : 0.81\n"
          ]
        }
      ],
      "source": [
        "# Root Mean Square Error is\n",
        "print('The RMAE is : %.2f'% np.sqrt(mean_absolute_error(z_test,ztest_pred)))"
      ]
    },
    {
      "cell_type": "code",
      "execution_count": 42,
      "metadata": {
        "id": "StBjIiZDRoKw"
      },
      "outputs": [],
      "source": [
        "# -done-"
      ]
    },
    {
      "cell_type": "code",
      "execution_count": 43,
      "metadata": {
        "id": "UPHS45uTJ80B",
        "colab": {
          "base_uri": "https://localhost:8080/"
        },
        "outputId": "b6412cba-191c-42c1-d35c-d3d1a43cf614"
      },
      "outputs": [
        {
          "output_type": "execute_result",
          "data": {
            "text/plain": [
              "Text(0.5, 0, 'Sample No.')"
            ]
          },
          "metadata": {},
          "execution_count": 43
        }
      ],
      "source": [
        "# Plotting the predicted data\n",
        "import matplotlib.pyplot as plt\n",
        "# set the boundaries and other characteristics\n",
        "plt.rcParams['figure.figsize'] = (600,110)\n",
        "x_ax = range(len(X_test))\n",
        "plt.plot(x_ax, y_test,label = 'Observed',color='red',linestyle = '-')\n",
        "plt.plot(x_ax, ytest_pred,label = 'Predicted' ,color = 'green',linestyle = '-')\n",
        "plt.ylabel('id_k1')\n",
        "plt.xlabel('Sample No.')"
      ]
    },
    {
      "cell_type": "code",
      "execution_count": null,
      "metadata": {
        "id": "4PjgOjtbLTdP"
      },
      "outputs": [],
      "source": [
        "# Plotting the predicted data\n",
        "import matplotlib.pyplot as plt\n",
        "# set the boundaries and other characteristics\n",
        "plt.rcParams['figure.figsize'] = (600,120)\n",
        "x_ax = range(len(X_test))\n",
        "plt.plot(x_ax, z_test,label = 'Observed',color='red',linestyle = '-')\n",
        "plt.plot(x_ax, ztest_pred,label = 'Predicted' ,color = 'green',linestyle = '-')\n",
        "plt.ylabel('id_q1')\n",
        "plt.xlabel('Sample No.')"
      ]
    },
    {
      "cell_type": "code",
      "execution_count": null,
      "metadata": {
        "id": "NDmPlV4VO2AU"
      },
      "outputs": [],
      "source": [
        "#  we are also plotting the prediction error\n",
        "from yellowbrick.regressor import PredictionError\n",
        "visualizer = PredictionError(LL_svr2)\n",
        "visualizer.fit(X_train,z_train)\n",
        "visualizer.score(X_test,z_test)\n",
        "visualizer.poof()"
      ]
    },
    {
      "cell_type": "code",
      "execution_count": null,
      "metadata": {
        "id": "Pg2cnImaLeKz"
      },
      "outputs": [],
      "source": [
        "#  we are also plotting the prediction error\n",
        "from yellowbrick.regressor import PredictionError\n",
        "visualizer = PredictionError(LL_svr1)\n",
        "visualizer.fit(X_train,y_train)\n",
        "visualizer.score(X_test,y_test)\n",
        "visualizer.poof()"
      ]
    },
    {
      "cell_type": "code",
      "execution_count": null,
      "metadata": {
        "id": "SUMSFsDIPCoM"
      },
      "outputs": [],
      "source": [
        "# residual plot\n",
        "from yellowbrick.regressor import ResidualsPlot\n",
        "visualizer = ResidualsPlot(LL_svr1)\n",
        "visualizer.fit(X_train,y_train)\n",
        "visualizer.score(X_test,y_test)\n",
        "visualizer.poof()\n",
        "\n",
        "\n"
      ]
    },
    {
      "cell_type": "code",
      "execution_count": null,
      "metadata": {
        "id": "DtMdlrTIPkU8"
      },
      "outputs": [],
      "source": [
        "visualizer = ResidualsPlot(LL_svr2)\n",
        "visualizer.fit(X_train,z_train)\n",
        "visualizer.score(X_test,z_test)\n",
        "visualizer.poof()"
      ]
    }
  ],
  "metadata": {
    "colab": {
      "provenance": [],
      "include_colab_link": true
    },
    "kernelspec": {
      "display_name": "Python 3",
      "name": "python3"
    },
    "language_info": {
      "name": "python"
    }
  },
  "nbformat": 4,
  "nbformat_minor": 0
}